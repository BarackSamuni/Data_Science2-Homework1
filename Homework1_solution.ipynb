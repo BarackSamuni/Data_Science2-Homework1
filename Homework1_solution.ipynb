{
 "cells": [
  {
   "cell_type": "code",
   "id": "initial_id",
   "metadata": {
    "collapsed": true,
    "ExecuteTime": {
     "end_time": "2024-06-05T17:59:10.428119Z",
     "start_time": "2024-06-05T17:59:10.422784Z"
    }
   },
   "source": [
    "# imports\n",
    "from keras.datasets import mnist\n",
    "from matplotlib import pyplot as plt\n",
    "import random\n",
    "import numpy as np"
   ],
   "outputs": [],
   "execution_count": 23
  },
  {
   "metadata": {},
   "cell_type": "markdown",
   "source": [
    "# **3. Load the mnist dataset**\n",
    "***"
   ],
   "id": "9cb9c8f561cfe14c"
  },
  {
   "metadata": {
    "ExecuteTime": {
     "end_time": "2024-06-05T17:59:10.839360Z",
     "start_time": "2024-06-05T17:59:10.440092Z"
    }
   },
   "cell_type": "code",
   "source": [
    "# define random seed\n",
    "random.seed(42)\n",
    "# define train and test sets\n",
    "(x_train, y_train), (x_test, y_test) = mnist.load_data()"
   ],
   "id": "859415536cb54efa",
   "outputs": [],
   "execution_count": 24
  },
  {
   "metadata": {},
   "cell_type": "markdown",
   "source": [
    "# **4. Present simple statistics of this dataset:**\n",
    "***"
   ],
   "id": "9acd014847567846"
  },
  {
   "metadata": {
    "ExecuteTime": {
     "end_time": "2024-06-05T17:59:10.849487Z",
     "start_time": "2024-06-05T17:59:10.841358Z"
    }
   },
   "cell_type": "code",
   "source": [
    "def show_statistics(dataset):\n",
    "    \"\"\"\n",
    "    Shows some statistics about the dataset\n",
    "    :param dataset: \n",
    "    :return: \n",
    "    \"\"\"\n",
    "    # load the dataset\n",
    "    (input_train, labels_train),(input_test,labels_test) = dataset.load_data()\n",
    "     \n",
    "     # combine training and test\n",
    "    images = np.concatenate((input_train, input_test), axis=0)\n",
    "    labels = np.concatenate((labels_train, labels_test), axis=0)\n",
    "    \n",
    "    # number of images\n",
    "    num_images = len(images)\n",
    "    \n",
    "    # show the distribution of the images\n",
    "    class_distribution = np.bincount(labels)\n",
    "    plt.title(f'Distribution of images in the {dataset.__name__} dataset')\n",
    "    plt.xlabel('class label', fontsize=14)\n",
    "\n",
    "    plt.ylabel('Count', fontsize=14)\n",
    "    plt.hist(class_distribution)\n",
    "    plt.show()\n",
    "    \n",
    "    # average number of white pixels(255) and their std per class\n",
    "    average_white_pixels = []\n",
    "    std_white_pixels = []\n",
    "    common_non_white_pixels = []\n",
    "    \n",
    "    for digit in range(10): # 10 digits 0-9:\n",
    "        digit_images = images[labels == digit]\n",
    "        white_pixels_count = np.sum(digit_images == 255, axis=(1, 2)) # columns of pixels, with consideration to RGB matrix\n",
    "        average_white_pixels.append(np.mean(white_pixels_count))\n",
    "        std_white_pixels.append(np.std(white_pixels_count))\n",
    "        \n",
    "        #calculate common non-white pixels\n",
    "        common_non_white = np.all(digit_images!= 255, axis =0).sum()    # if any pixel is not 255, he is not white\n",
    "        common_non_white_pixels.append(np.sum(digit_images == 255, axis=(1, 2)))\n",
    "        \n",
    "    \n",
    "    \n",
    "    "
   ],
   "id": "30802bc0c84caad9",
   "outputs": [
    {
     "ename": "IndentationError",
     "evalue": "unexpected indent (3527360215.py, line 11)",
     "output_type": "error",
     "traceback": [
      "\u001B[1;36m  Cell \u001B[1;32mIn[25], line 11\u001B[1;36m\u001B[0m\n\u001B[1;33m    num_images = len(input_train) + len(input_test)\u001B[0m\n\u001B[1;37m    ^\u001B[0m\n\u001B[1;31mIndentationError\u001B[0m\u001B[1;31m:\u001B[0m unexpected indent\n"
     ]
    }
   ],
   "execution_count": 25
  },
  {
   "metadata": {
    "ExecuteTime": {
     "end_time": "2024-06-05T17:59:10.851488Z",
     "start_time": "2024-06-05T17:59:10.851488Z"
    }
   },
   "cell_type": "code",
   "source": "",
   "id": "f3d1110fe771ab02",
   "outputs": [],
   "execution_count": null
  }
 ],
 "metadata": {
  "kernelspec": {
   "display_name": "Python 3",
   "language": "python",
   "name": "python3"
  },
  "language_info": {
   "codemirror_mode": {
    "name": "ipython",
    "version": 2
   },
   "file_extension": ".py",
   "mimetype": "text/x-python",
   "name": "python",
   "nbconvert_exporter": "python",
   "pygments_lexer": "ipython2",
   "version": "2.7.6"
  }
 },
 "nbformat": 4,
 "nbformat_minor": 5
}
