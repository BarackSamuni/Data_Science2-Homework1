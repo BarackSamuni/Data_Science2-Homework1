{
 "cells": [
  {
   "cell_type": "code",
   "id": "initial_id",
   "metadata": {
    "collapsed": true,
    "ExecuteTime": {
     "end_time": "2024-06-08T21:05:34.887478Z",
     "start_time": "2024-06-08T21:05:34.882438Z"
    }
   },
   "source": [
    "# imports\n",
    "from keras.datasets import mnist\n",
    "from matplotlib import pyplot as plt\n",
    "import random\n",
    "import numpy as np\n",
    "import pandas as pd\n",
    "import tensorflow as tf\n",
    "import keras.metrics"
   ],
   "outputs": [],
   "execution_count": 61
  },
  {
   "metadata": {},
   "cell_type": "markdown",
   "source": [
    "# **3. Load the mnist dataset**\n",
    "***"
   ],
   "id": "9cb9c8f561cfe14c"
  },
  {
   "metadata": {
    "ExecuteTime": {
     "end_time": "2024-06-08T21:05:14.075596Z",
     "start_time": "2024-06-08T21:05:14.071438Z"
    }
   },
   "cell_type": "code",
   "source": [
    "# define random seed\n",
    "random.seed(42)"
   ],
   "id": "859415536cb54efa",
   "outputs": [],
   "execution_count": 58
  },
  {
   "metadata": {},
   "cell_type": "markdown",
   "source": [
    "# **4. Present simple statistics of this dataset:**\n",
    "***"
   ],
   "id": "9acd014847567846"
  },
  {
   "metadata": {
    "ExecuteTime": {
     "end_time": "2024-06-08T21:04:34.509383Z",
     "start_time": "2024-06-08T21:04:33.834937Z"
    }
   },
   "cell_type": "code",
   "source": [
    "def show_statistics(dataset):\n",
    "    \"\"\"\n",
    "    Shows some statistics about the dataset\n",
    "    :param dataset: \n",
    "    :return: \n",
    "    \"\"\"\n",
    "    # load the dataset\n",
    "    (input_train, labels_train),(input_test,labels_test) = dataset.load_data()\n",
    "     \n",
    "     # combine training and test\n",
    "    images = np.concatenate((input_train, input_test), axis=0)\n",
    "    labels = np.concatenate((labels_train, labels_test), axis=0)\n",
    "    \n",
    "    # number of images\n",
    "    num_images = len(images)\n",
    "    \n",
    "    # show the distribution of the images\n",
    "    class_distribution = np.bincount(labels)\n",
    "    plt.title(f'Distribution of images in the {dataset.__name__} dataset')\n",
    "    plt.xlabel('class label', fontsize=14)\n",
    "\n",
    "    plt.ylabel('Count', fontsize=14)\n",
    "    plt.hist(class_distribution)\n",
    "    plt.show()\n",
    "    \n",
    "    # average number of white pixels(255) and their std per class\n",
    "    average_white_pixels = []\n",
    "    std_white_pixels = []\n",
    "    common_non_white_pixels = []\n",
    "    \n",
    "    for digit in range(10): # 10 digits 0-9:\n",
    "        digit_images = images[labels == digit]\n",
    "        white_pixels_count = np.sum(digit_images == 255, axis=(1, 2)) # columns of pixels, with consideration to RGB matrix\n",
    "        average_white_pixels.append(np.mean(white_pixels_count))\n",
    "        std_white_pixels.append(np.std(white_pixels_count))\n",
    "        \n",
    "        #calculate common non-white pixels\n",
    "        common_non_white = np.all(digit_images!= 255, axis =0).sum()    # if any pixel is not 255, he is not white sum all the areas of that along the images\n",
    "        common_non_white_pixels.append(common_non_white)\n",
    "    # Compile results\n",
    "    statistics = {\n",
    "        \"Number of images\": num_images,\n",
    "        \"Class distribution\": class_distribution,\n",
    "        \"Average number of white pixels\": average_white_pixels,\n",
    "        \"Standard deviation of white pixels\": std_white_pixels,\n",
    "        \"Common non-white pixels per class\": common_non_white_pixels\n",
    "    }\n",
    "    \n",
    "    df_statistics = pd.DataFrame(statistics)\n",
    "    \n",
    "    display(df_statistics)     \n",
    "show_statistics(mnist) \n",
    "\n",
    "\n",
    "    "
   ],
   "id": "11349503aad8ef7d",
   "outputs": [
    {
     "data": {
      "text/plain": [
       "<Figure size 640x480 with 1 Axes>"
      ],
      "image/png": "[encoded data removed]"
     },
     "metadata": {},
     "output_type": "display_data"
    },
    {
     "data": {
      "text/plain": [
       "   Number of images  Class distribution  Average number of white pixels  \\\n",
       "0             70000                6903                        7.240910   \n",
       "1             70000                7877                        3.613685   \n",
       "2             70000                6990                        5.944492   \n",
       "3             70000                7141                        5.953368   \n",
       "4             70000                6824                        4.847743   \n",
       "5             70000                6313                        5.359575   \n",
       "6             70000                6876                        5.504945   \n",
       "7             70000                7293                        4.539284   \n",
       "8             70000                6825                        5.555458   \n",
       "9             70000                6958                        4.716010   \n",
       "\n",
       "   Standard deviation of white pixels  Common non-white pixels per class  \n",
       "0                           24.266312                                345  \n",
       "1                           10.816985                                490  \n",
       "2                           20.322924                                300  \n",
       "3                           20.555728                                326  \n",
       "4                           16.463461                                316  \n",
       "5                           18.257221                                310  \n",
       "6                           18.786060                                356  \n",
       "7                           15.439864                                332  \n",
       "8                           19.388457                                350  \n",
       "9                           15.829870                                359  "
      ],
      "text/html": [
       "<div>\n",
       "<style scoped>\n",
       "    .dataframe tbody tr th:only-of-type {\n",
       "        vertical-align: middle;\n",
       "    }\n",
       "\n",
       "    .dataframe tbody tr th {\n",
       "        vertical-align: top;\n",
       "    }\n",
       "\n",
       "    .dataframe thead th {\n",
       "        text-align: right;\n",
       "    }\n",
       "</style>\n",
       "<table border=\"1\" class=\"dataframe\">\n",
       "  <thead>\n",
       "    <tr style=\"text-align: right;\">\n",
       "      <th></th>\n",
       "      <th>Number of images</th>\n",
       "      <th>Class distribution</th>\n",
       "      <th>Average number of white pixels</th>\n",
       "      <th>Standard deviation of white pixels</th>\n",
       "      <th>Common non-white pixels per class</th>\n",
       "    </tr>\n",
       "  </thead>\n",
       "  <tbody>\n",
       "    <tr>\n",
       "      <th>0</th>\n",
       "      <td>70000</td>\n",
       "      <td>6903</td>\n",
       "      <td>7.240910</td>\n",
       "      <td>24.266312</td>\n",
       "      <td>345</td>\n",
       "    </tr>\n",
       "    <tr>\n",
       "      <th>1</th>\n",
       "      <td>70000</td>\n",
       "      <td>7877</td>\n",
       "      <td>3.613685</td>\n",
       "      <td>10.816985</td>\n",
       "      <td>490</td>\n",
       "    </tr>\n",
       "    <tr>\n",
       "      <th>2</th>\n",
       "      <td>70000</td>\n",
       "      <td>6990</td>\n",
       "      <td>5.944492</td>\n",
       "      <td>20.322924</td>\n",
       "      <td>300</td>\n",
       "    </tr>\n",
       "    <tr>\n",
       "      <th>3</th>\n",
       "      <td>70000</td>\n",
       "      <td>7141</td>\n",
       "      <td>5.953368</td>\n",
       "      <td>20.555728</td>\n",
       "      <td>326</td>\n",
       "    </tr>\n",
       "    <tr>\n",
       "      <th>4</th>\n",
       "      <td>70000</td>\n",
       "      <td>6824</td>\n",
       "      <td>4.847743</td>\n",
       "      <td>16.463461</td>\n",
       "      <td>316</td>\n",
       "    </tr>\n",
       "    <tr>\n",
       "      <th>5</th>\n",
       "      <td>70000</td>\n",
       "      <td>6313</td>\n",
       "      <td>5.359575</td>\n",
       "      <td>18.257221</td>\n",
       "      <td>310</td>\n",
       "    </tr>\n",
       "    <tr>\n",
       "      <th>6</th>\n",
       "      <td>70000</td>\n",
       "      <td>6876</td>\n",
       "      <td>5.504945</td>\n",
       "      <td>18.786060</td>\n",
       "      <td>356</td>\n",
       "    </tr>\n",
       "    <tr>\n",
       "      <th>7</th>\n",
       "      <td>70000</td>\n",
       "      <td>7293</td>\n",
       "      <td>4.539284</td>\n",
       "      <td>15.439864</td>\n",
       "      <td>332</td>\n",
       "    </tr>\n",
       "    <tr>\n",
       "      <th>8</th>\n",
       "      <td>70000</td>\n",
       "      <td>6825</td>\n",
       "      <td>5.555458</td>\n",
       "      <td>19.388457</td>\n",
       "      <td>350</td>\n",
       "    </tr>\n",
       "    <tr>\n",
       "      <th>9</th>\n",
       "      <td>70000</td>\n",
       "      <td>6958</td>\n",
       "      <td>4.716010</td>\n",
       "      <td>15.829870</td>\n",
       "      <td>359</td>\n",
       "    </tr>\n",
       "  </tbody>\n",
       "</table>\n",
       "</div>"
      ]
     },
     "metadata": {},
     "output_type": "display_data"
    }
   ],
   "execution_count": 54
  },
  {
   "metadata": {},
   "cell_type": "markdown",
   "source": [
    "# **5.Apply a simple neural network**\n",
    "***\n"
   ],
   "id": "167870e203323443"
  },
  {
   "metadata": {
    "ExecuteTime": {
     "end_time": "2024-06-08T21:32:02.400075Z",
     "start_time": "2024-06-08T21:17:43.638131Z"
    }
   },
   "cell_type": "code",
   "source": [
    "# Load and prepare the MNIST dataset\n",
    "\n",
    "(x_train, y_train), (x_test, y_test) = mnist.load_data()\n",
    "\n",
    "# Normalize pixel values to a range of 0 to 1\n",
    "x_train, x_test = x_train / 255.0, x_test / 255.0\n",
    "\n",
    "# Build a simple neural network model\n",
    "model = tf.keras.models.Sequential([\n",
    "    tf.keras.layers.Flatten(input_shape=(28, 28)),  # Flatten the 28x28 images to a 1D array\n",
    "    tf.keras.layers.Dense(128, activation='relu'),  # Fully connected layer with 128 units and ReLU activation\n",
    "    tf.keras.layers.Dropout(0.2),  # Dropout layer to prevent overfitting\n",
    "    tf.keras.layers.Dense(10)  # Output layer with 10 units (one for each digit class)\n",
    "])\n",
    "\n",
    "# Compile the model\n",
    "model.compile(optimizer='adam',\n",
    "              loss=tf.keras.losses.SparseCategoricalCrossentropy(from_logits=True),\n",
    "              metrics=['recall','accuracy','Precision',\"f1_score\" ])\n",
    "\n",
    "# Train the model\n",
    "model.fit(x_train, y_train, epochs=5)\n",
    "\n",
    "# Evaluate the model on test data\n",
    "model.evaluate(x_test, y_test, verbose=2)\n",
    "pass"
   ],
   "id": "e6ef5593bb8ad114",
   "outputs": [
    {
     "ename": "KeyboardInterrupt",
     "evalue": "",
     "output_type": "error",
     "traceback": [
      "\u001B[1;31m---------------------------------------------------------------------------\u001B[0m",
      "\u001B[1;31mKeyboardInterrupt\u001B[0m                         Traceback (most recent call last)",
      "Cell \u001B[1;32mIn[66], line 22\u001B[0m\n\u001B[0;32m     17\u001B[0m model\u001B[38;5;241m.\u001B[39mcompile(optimizer\u001B[38;5;241m=\u001B[39m\u001B[38;5;124m'\u001B[39m\u001B[38;5;124madam\u001B[39m\u001B[38;5;124m'\u001B[39m,\n\u001B[0;32m     18\u001B[0m               loss\u001B[38;5;241m=\u001B[39mtf\u001B[38;5;241m.\u001B[39mkeras\u001B[38;5;241m.\u001B[39mlosses\u001B[38;5;241m.\u001B[39mSparseCategoricalCrossentropy(from_logits\u001B[38;5;241m=\u001B[39m\u001B[38;5;28;01mTrue\u001B[39;00m),\n\u001B[0;32m     19\u001B[0m               metrics\u001B[38;5;241m=\u001B[39m[\u001B[38;5;124m'\u001B[39m\u001B[38;5;124mrecall\u001B[39m\u001B[38;5;124m'\u001B[39m,\u001B[38;5;124m'\u001B[39m\u001B[38;5;124maccuracy\u001B[39m\u001B[38;5;124m'\u001B[39m,\u001B[38;5;124m'\u001B[39m\u001B[38;5;124mPrecision\u001B[39m\u001B[38;5;124m'\u001B[39m,\u001B[38;5;124m\"\u001B[39m\u001B[38;5;124mf1_score\u001B[39m\u001B[38;5;124m\"\u001B[39m ])\n\u001B[0;32m     21\u001B[0m \u001B[38;5;66;03m# Train the model\u001B[39;00m\n\u001B[1;32m---> 22\u001B[0m \u001B[43mmodel\u001B[49m\u001B[38;5;241m.\u001B[39mfit(x_train, y_train, epochs\u001B[38;5;241m=\u001B[39m\u001B[38;5;241m5\u001B[39m)\n\u001B[0;32m     24\u001B[0m \u001B[38;5;66;03m# Evaluate the model on test data\u001B[39;00m\n\u001B[0;32m     25\u001B[0m model\u001B[38;5;241m.\u001B[39mevaluate(x_test, y_test, verbose\u001B[38;5;241m=\u001B[39m\u001B[38;5;241m2\u001B[39m)\n",
      "File \u001B[1;32m_pydevd_bundle\\pydevd_cython_win32_311_64.pyx:1187\u001B[0m, in \u001B[0;36m_pydevd_bundle.pydevd_cython_win32_311_64.SafeCallWrapper.__call__\u001B[1;34m()\u001B[0m\n",
      "File \u001B[1;32m_pydevd_bundle\\pydevd_cython_win32_311_64.pyx:627\u001B[0m, in \u001B[0;36m_pydevd_bundle.pydevd_cython_win32_311_64.PyDBFrame.trace_dispatch\u001B[1;34m()\u001B[0m\n",
      "File \u001B[1;32m_pydevd_bundle\\pydevd_cython_win32_311_64.pyx:937\u001B[0m, in \u001B[0;36m_pydevd_bundle.pydevd_cython_win32_311_64.PyDBFrame.trace_dispatch\u001B[1;34m()\u001B[0m\n",
      "File \u001B[1;32m_pydevd_bundle\\pydevd_cython_win32_311_64.pyx:928\u001B[0m, in \u001B[0;36m_pydevd_bundle.pydevd_cython_win32_311_64.PyDBFrame.trace_dispatch\u001B[1;34m()\u001B[0m\n",
      "File \u001B[1;32m_pydevd_bundle\\pydevd_cython_win32_311_64.pyx:585\u001B[0m, in \u001B[0;36m_pydevd_bundle.pydevd_cython_win32_311_64.PyDBFrame.do_wait_suspend\u001B[1;34m()\u001B[0m\n",
      "File \u001B[1;32mC:\\Program Files\\JetBrains\\PyCharm 2024.1.2\\plugins\\python\\helpers\\pydev\\pydevd.py:1187\u001B[0m, in \u001B[0;36mPyDB.do_wait_suspend\u001B[1;34m(self, thread, frame, event, arg, send_suspend_message, is_unhandled_exception)\u001B[0m\n\u001B[0;32m   1184\u001B[0m         from_this_thread\u001B[38;5;241m.\u001B[39mappend(frame_id)\n\u001B[0;32m   1186\u001B[0m \u001B[38;5;28;01mwith\u001B[39;00m \u001B[38;5;28mself\u001B[39m\u001B[38;5;241m.\u001B[39m_threads_suspended_single_notification\u001B[38;5;241m.\u001B[39mnotify_thread_suspended(thread_id, stop_reason):\n\u001B[1;32m-> 1187\u001B[0m     \u001B[38;5;28;43mself\u001B[39;49m\u001B[38;5;241;43m.\u001B[39;49m\u001B[43m_do_wait_suspend\u001B[49m\u001B[43m(\u001B[49m\u001B[43mthread\u001B[49m\u001B[43m,\u001B[49m\u001B[43m \u001B[49m\u001B[43mframe\u001B[49m\u001B[43m,\u001B[49m\u001B[43m \u001B[49m\u001B[43mevent\u001B[49m\u001B[43m,\u001B[49m\u001B[43m \u001B[49m\u001B[43marg\u001B[49m\u001B[43m,\u001B[49m\u001B[43m \u001B[49m\u001B[43msuspend_type\u001B[49m\u001B[43m,\u001B[49m\u001B[43m \u001B[49m\u001B[43mfrom_this_thread\u001B[49m\u001B[43m)\u001B[49m\n",
      "File \u001B[1;32mC:\\Program Files\\JetBrains\\PyCharm 2024.1.2\\plugins\\python\\helpers\\pydev\\pydevd.py:1202\u001B[0m, in \u001B[0;36mPyDB._do_wait_suspend\u001B[1;34m(self, thread, frame, event, arg, suspend_type, from_this_thread)\u001B[0m\n\u001B[0;32m   1199\u001B[0m             \u001B[38;5;28mself\u001B[39m\u001B[38;5;241m.\u001B[39m_call_mpl_hook()\n\u001B[0;32m   1201\u001B[0m         \u001B[38;5;28mself\u001B[39m\u001B[38;5;241m.\u001B[39mprocess_internal_commands()\n\u001B[1;32m-> 1202\u001B[0m         \u001B[43mtime\u001B[49m\u001B[38;5;241;43m.\u001B[39;49m\u001B[43msleep\u001B[49m\u001B[43m(\u001B[49m\u001B[38;5;241;43m0.01\u001B[39;49m\u001B[43m)\u001B[49m\n\u001B[0;32m   1204\u001B[0m \u001B[38;5;28mself\u001B[39m\u001B[38;5;241m.\u001B[39mcancel_async_evaluation(get_current_thread_id(thread), \u001B[38;5;28mstr\u001B[39m(\u001B[38;5;28mid\u001B[39m(frame)))\n\u001B[0;32m   1206\u001B[0m \u001B[38;5;66;03m# process any stepping instructions\u001B[39;00m\n",
      "\u001B[1;31mKeyboardInterrupt\u001B[0m: "
     ]
    }
   ],
   "execution_count": 66
  },
  {
   "metadata": {},
   "cell_type": "code",
   "outputs": [],
   "execution_count": null,
   "source": "",
   "id": "bbb32424403ea33c"
  }
 ],
 "metadata": {
  "kernelspec": {
   "display_name": "Python 3",
   "language": "python",
   "name": "python3"
  },
  "language_info": {
   "codemirror_mode": {
    "name": "ipython",
    "version": 2
   },
   "file_extension": ".py",
   "mimetype": "text/x-python",
   "name": "python",
   "nbconvert_exporter": "python",
   "pygments_lexer": "ipython2",
   "version": "2.7.6"
  }
 },
 "nbformat": 4,
 "nbformat_minor": 5
}
