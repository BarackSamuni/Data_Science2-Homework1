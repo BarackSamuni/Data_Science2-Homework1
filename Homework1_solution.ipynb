{
 "cells": [
  {
   "cell_type": "code",
   "id": "initial_id",
   "metadata": {
    "collapsed": true,
    "ExecuteTime": {
     "end_time": "2024-06-22T11:06:46.732381Z",
     "start_time": "2024-06-22T11:06:46.725692Z"
    }
   },
   "source": [
    "# imports\n",
    "import cv2\n",
    "import tensorflow as tf\n",
    "import keras\n",
    "from tensorflow.keras.models import Sequential\n",
    "from tensorflow.keras.layers import Flatten, Dense, Dropout,Input\n",
    "import random\n",
    "import numpy as np\n",
    "import pandas as pd\n",
    "from tensorflow.keras.datasets import mnist\n",
    "import matplotlib.pyplot as plt\n",
    "import seaborn as sns\n",
    "from sklearn.metrics import confusion_matrix, classification_report\n",
    "from sklearn.metrics import accuracy_score\n",
    "from sklearn.metrics import recall_score\n",
    "from sklearn.metrics import precision_score\n",
    "from sklearn.metrics import f1_score\n",
    "from collections import Counter\n",
    "from tensorflow.keras.preprocessing.image import ImageDataGenerator\n",
    "from sklearn.decomposition import PCA\n",
    "from IPython.display import Markdown, display\n",
    "from sklearn.model_selection import train_test_split"
   ],
   "outputs": [],
   "execution_count": 463
  },
  {
   "metadata": {},
   "cell_type": "markdown",
   "source": [
    "# **3. Load the mnist dataset**\n",
    "***"
   ],
   "id": "9cb9c8f561cfe14c"
  },
  {
   "metadata": {
    "ExecuteTime": {
     "end_time": "2024-06-22T11:06:47.269767Z",
     "start_time": "2024-06-22T11:06:46.853495Z"
    }
   },
   "cell_type": "code",
   "source": [
    "# define random seed\n",
    "seed=42\n",
    "random.seed(seed)\n",
    "np.random.seed(seed)\n",
    "tf.random.set_seed(seed)\n",
    "keras.utils.set_random_seed(seed)\n",
    "# Load and prepare the MNIST dataset\n",
    "(x_train, y_train), (x_test, y_test) = mnist.load_data()\n",
    "x_train, x_test = x_train / 255.0, x_test / 255.0  # Normalize pixel values"
   ],
   "id": "859415536cb54efa",
   "outputs": [],
   "execution_count": 464
  },
  {
   "metadata": {},
   "cell_type": "markdown",
   "source": [
    "# **4. Present simple statistics of this dataset:**\n",
    "***"
   ],
   "id": "9acd014847567846"
  },
  {
   "metadata": {
    "ExecuteTime": {
     "end_time": "2024-06-22T11:06:47.880321Z",
     "start_time": "2024-06-22T11:06:47.271765Z"
    }
   },
   "cell_type": "code",
   "source": [
    "def show_statistics(dataset):\n",
    "    \"\"\"\n",
    "    Shows some statistics about the dataset\n",
    "    :param dataset: \n",
    "    :return: \n",
    "    \"\"\"\n",
    "    # load the dataset\n",
    "    (input_train, labels_train),(input_test,labels_test) = dataset.load_data()\n",
    "     \n",
    "     # combine training and test\n",
    "    images = np.concatenate((input_train, input_test), axis=0)\n",
    "    labels = np.concatenate((labels_train, labels_test), axis=0)\n",
    "    \n",
    "    \n",
    "    # show the distribution of the images\n",
    "    class_distribution = np.bincount(labels)\n",
    "    indices = np.arange(class_distribution.size)\n",
    "    plt.title(f'Distribution of images in the {dataset.__name__} dataset')\n",
    "    plt.xlabel('class label', fontsize=14)\n",
    "    plt.ylabel('Count', fontsize=14)\n",
    "    plt.xticks(indices,labels=indices)\n",
    "    plt.bar(indices,class_distribution)\n",
    "    plt.show()\n",
    "    \n",
    "    # average number of white pixels(255) and their std per class\n",
    "    average_white_pixels = []\n",
    "    std_white_pixels = []\n",
    "    common_non_white_pixels = []\n",
    "    \n",
    "    for digit in range(10): # 10 digits 0-9:\n",
    "        digit_images = images[labels == digit]\n",
    "        \n",
    "        # columns of pixels, with consideration to RGB matrix\n",
    "        white_pixels_count = np.sum(digit_images == 255, axis=(1, 2)) \n",
    "        average_white_pixels.append(np.mean(white_pixels_count))\n",
    "        std_white_pixels.append(np.std(white_pixels_count))\n",
    "        \n",
    "        #calculate common non-white pixels- if any pixel is not 255, it is not white. \n",
    "        # sum all the areas of that along the images\n",
    "        common_non_white = np.all(digit_images!= 255, axis =0).sum()     \n",
    "        common_non_white_pixels.append(common_non_white)\n",
    "        \n",
    "    # Compile results\n",
    "    statistics = {\n",
    "        \"Class distribution\": class_distribution,\n",
    "        \"Average number of white pixels\": average_white_pixels,\n",
    "        \"Standard deviation of white pixels\": std_white_pixels,\n",
    "        \"number of common non-white pixels\": common_non_white_pixels,\n",
    "    }\n",
    "    \n",
    "    df_statistics = pd.DataFrame(statistics)\n",
    "    summary_row = [np.sum(class_distribution), np.mean(average_white_pixels), np.mean(std_white_pixels), np.mean(common_non_white_pixels)]\n",
    "    \n",
    "    df_statistics.rename_axis('Digit', inplace=True)\n",
    "    df_statistics.loc[\"Total Summary\"] = summary_row\n",
    "    display(df_statistics)\n",
    "    \n",
    "  \n",
    "show_statistics(mnist)"
   ],
   "id": "11349503aad8ef7d",
   "outputs": [
    {
     "data": {
      "text/plain": [
       "<Figure size 640x480 with 1 Axes>"
      ],
      "image/png": "[encoded data removed]"
     },
     "metadata": {},
     "output_type": "display_data"
    },
    {
     "data": {
      "text/plain": [
       "               Class distribution  Average number of white pixels  \\\n",
       "Digit                                                               \n",
       "0                          6903.0                        7.240910   \n",
       "1                          7877.0                        3.613685   \n",
       "2                          6990.0                        5.944492   \n",
       "3                          7141.0                        5.953368   \n",
       "4                          6824.0                        4.847743   \n",
       "5                          6313.0                        5.359575   \n",
       "6                          6876.0                        5.504945   \n",
       "7                          7293.0                        4.539284   \n",
       "8                          6825.0                        5.555458   \n",
       "9                          6958.0                        4.716010   \n",
       "Total Summary             70000.0                        5.327547   \n",
       "\n",
       "               Standard deviation of white pixels  \\\n",
       "Digit                                               \n",
       "0                                       24.266312   \n",
       "1                                       10.816985   \n",
       "2                                       20.322924   \n",
       "3                                       20.555728   \n",
       "4                                       16.463461   \n",
       "5                                       18.257221   \n",
       "6                                       18.786060   \n",
       "7                                       15.439864   \n",
       "8                                       19.388457   \n",
       "9                                       15.829870   \n",
       "Total Summary                           18.012688   \n",
       "\n",
       "               number of common non-white pixels  \n",
       "Digit                                             \n",
       "0                                          345.0  \n",
       "1                                          490.0  \n",
       "2                                          300.0  \n",
       "3                                          326.0  \n",
       "4                                          316.0  \n",
       "5                                          310.0  \n",
       "6                                          356.0  \n",
       "7                                          332.0  \n",
       "8                                          350.0  \n",
       "9                                          359.0  \n",
       "Total Summary                              348.4  "
      ],
      "text/html": [
       "<div>\n",
       "<style scoped>\n",
       "    .dataframe tbody tr th:only-of-type {\n",
       "        vertical-align: middle;\n",
       "    }\n",
       "\n",
       "    .dataframe tbody tr th {\n",
       "        vertical-align: top;\n",
       "    }\n",
       "\n",
       "    .dataframe thead th {\n",
       "        text-align: right;\n",
       "    }\n",
       "</style>\n",
       "<table border=\"1\" class=\"dataframe\">\n",
       "  <thead>\n",
       "    <tr style=\"text-align: right;\">\n",
       "      <th></th>\n",
       "      <th>Class distribution</th>\n",
       "      <th>Average number of white pixels</th>\n",
       "      <th>Standard deviation of white pixels</th>\n",
       "      <th>number of common non-white pixels</th>\n",
       "    </tr>\n",
       "    <tr>\n",
       "      <th>Digit</th>\n",
       "      <th></th>\n",
       "      <th></th>\n",
       "      <th></th>\n",
       "      <th></th>\n",
       "    </tr>\n",
       "  </thead>\n",
       "  <tbody>\n",
       "    <tr>\n",
       "      <th>0</th>\n",
       "      <td>6903.0</td>\n",
       "      <td>7.240910</td>\n",
       "      <td>24.266312</td>\n",
       "      <td>345.0</td>\n",
       "    </tr>\n",
       "    <tr>\n",
       "      <th>1</th>\n",
       "      <td>7877.0</td>\n",
       "      <td>3.613685</td>\n",
       "      <td>10.816985</td>\n",
       "      <td>490.0</td>\n",
       "    </tr>\n",
       "    <tr>\n",
       "      <th>2</th>\n",
       "      <td>6990.0</td>\n",
       "      <td>5.944492</td>\n",
       "      <td>20.322924</td>\n",
       "      <td>300.0</td>\n",
       "    </tr>\n",
       "    <tr>\n",
       "      <th>3</th>\n",
       "      <td>7141.0</td>\n",
       "      <td>5.953368</td>\n",
       "      <td>20.555728</td>\n",
       "      <td>326.0</td>\n",
       "    </tr>\n",
       "    <tr>\n",
       "      <th>4</th>\n",
       "      <td>6824.0</td>\n",
       "      <td>4.847743</td>\n",
       "      <td>16.463461</td>\n",
       "      <td>316.0</td>\n",
       "    </tr>\n",
       "    <tr>\n",
       "      <th>5</th>\n",
       "      <td>6313.0</td>\n",
       "      <td>5.359575</td>\n",
       "      <td>18.257221</td>\n",
       "      <td>310.0</td>\n",
       "    </tr>\n",
       "    <tr>\n",
       "      <th>6</th>\n",
       "      <td>6876.0</td>\n",
       "      <td>5.504945</td>\n",
       "      <td>18.786060</td>\n",
       "      <td>356.0</td>\n",
       "    </tr>\n",
       "    <tr>\n",
       "      <th>7</th>\n",
       "      <td>7293.0</td>\n",
       "      <td>4.539284</td>\n",
       "      <td>15.439864</td>\n",
       "      <td>332.0</td>\n",
       "    </tr>\n",
       "    <tr>\n",
       "      <th>8</th>\n",
       "      <td>6825.0</td>\n",
       "      <td>5.555458</td>\n",
       "      <td>19.388457</td>\n",
       "      <td>350.0</td>\n",
       "    </tr>\n",
       "    <tr>\n",
       "      <th>9</th>\n",
       "      <td>6958.0</td>\n",
       "      <td>4.716010</td>\n",
       "      <td>15.829870</td>\n",
       "      <td>359.0</td>\n",
       "    </tr>\n",
       "    <tr>\n",
       "      <th>Total Summary</th>\n",
       "      <td>70000.0</td>\n",
       "      <td>5.327547</td>\n",
       "      <td>18.012688</td>\n",
       "      <td>348.4</td>\n",
       "    </tr>\n",
       "  </tbody>\n",
       "</table>\n",
       "</div>"
      ]
     },
     "metadata": {},
     "output_type": "display_data"
    }
   ],
   "execution_count": 465
  },
  {
   "metadata": {},
   "cell_type": "markdown",
   "source": [
    "**Note:** The total summary row contains the following:\n",
    "* A summation of the class distribution along all classes (i.e. the total number of images in the dataset)\n",
    "* An average of the average number of white pixels in each class (i.e. the average number of white pixels among all digits)\n",
    "* The average standard deviation of white pixels among all digits\n",
    "* The average number of common non-white pixels among all digits"
   ],
   "id": "79b463e9e8284258"
  },
  {
   "metadata": {},
   "cell_type": "markdown",
   "source": [
    "# **5. Apply a simple neural network**\n",
    "***\n"
   ],
   "id": "167870e203323443"
  },
  {
   "metadata": {
    "ExecuteTime": {
     "end_time": "2024-06-22T11:06:47.886766Z",
     "start_time": "2024-06-22T11:06:47.881321Z"
    }
   },
   "cell_type": "code",
   "source": [
    "def multi_class_specificity(y_true, y_pred,num_classes):\n",
    "    cm = confusion_matrix(y_true, y_pred)\n",
    "    specificity = []\n",
    "    for i in range(num_classes):\n",
    "        tn = np.sum(cm) - (np.sum(cm[i, :]) + np.sum(cm[:, i]) - cm[i, i])\n",
    "        fp = np.sum(cm[:, i]) - cm[i, i]\n",
    "        specificity.append(tn / (tn + fp))\n",
    "    return specificity"
   ],
   "id": "ae874ace5350dff7",
   "outputs": [],
   "execution_count": 466
  },
  {
   "metadata": {
    "ExecuteTime": {
     "end_time": "2024-06-22T11:06:47.897537Z",
     "start_time": "2024-06-22T11:06:47.888763Z"
    }
   },
   "cell_type": "code",
   "source": [
    "def create_classification_report(y_true,y_pred):\n",
    "    # Evaluate the model on test data\n",
    "    results = classification_report(y_true, y_pred, output_dict=True)\n",
    "    not_class_specific_headers = [\"accuracy\",\"macro avg\", \"weighted avg\"]\n",
    "    class_specific_results = {key: value for key, value in results.items() if not key in not_class_specific_headers}\n",
    "    \n",
    "    for i in range(10):\n",
    "        class_specific_results[str(i)].update({\"specificity\": multi_class_specificity(y_true, y_pred,10)[i]})\n",
    "        \n",
    "    general_results = {key: value for key, value in results.items() if  key in not_class_specific_headers}\n",
    "    general_results['macro avg'].update({\"specificity\":np.mean([class_specific_results[str(i)][\"specificity\"] for i in range(10)])})\n",
    "    \n",
    "    # weighted average \n",
    "    weights = np.bincount(y_test) / len(y_true) \n",
    "    general_results['weighted avg'].update({\"specificity\": np.sum([weights[i] * class_specific_results[str(i)][\"specificity\"] for i in range(10)])})\n",
    "    display(Markdown(\"## **Accuracy**\\n***\"))\n",
    "    display(Markdown(f\"##### **Accuracy: {results['accuracy']}**\"))\n",
    "    display(Markdown(\"## **Class-specific results**\\n***\"))\n",
    "    display(pd.DataFrame(class_specific_results))\n",
    "    display(Markdown(\"## **Averaging results**\\n***\"))\n",
    "    display(pd.DataFrame({key: value for key, value in general_results.items() if key != 'accuracy'}).transpose())"
   ],
   "id": "28be6dcee3a890f5",
   "outputs": [],
   "execution_count": 467
  },
  {
   "metadata": {
    "ExecuteTime": {
     "end_time": "2024-06-22T11:07:09.390031Z",
     "start_time": "2024-06-22T11:06:47.898537Z"
    }
   },
   "cell_type": "code",
   "source": [
    "# Build the neural network model\n",
    "model = Sequential([\n",
    "    Input(shape=(28, 28)),  # Input layer specifying the shape of input data\n",
    "    Flatten(),  # Flatten the 28x28 images to a 1D array\n",
    "    Dense(128, activation='relu'),  # Fully connected layer with 128 units and ReLU activation\n",
    "    Dropout(0.2),  # Dropout layer to prevent overfitting\n",
    "    Dense(10)  # Output layer with 10 units (one for each digit class)\n",
    "])\n",
    "\n",
    "# Compile the model with the desired metrics\n",
    "model.compile(optimizer='adam',\n",
    "              loss=tf.keras.losses.SparseCategoricalCrossentropy(from_logits=True),\n",
    "              metrics=['accuracy'])\n",
    "\n",
    "# Train the model\n",
    "model.fit(x_train, y_train, epochs=5)\n",
    "\n",
    "# assign the class with the highest prediction score to each image\n",
    "y_pred = tf.argmax(model.predict(x_test), axis=1)   \n",
    "\n",
    "create_classification_report(y_test,y_pred)"
   ],
   "id": "e6ef5593bb8ad114",
   "outputs": [
    {
     "name": "stdout",
     "output_type": "stream",
     "text": [
      "Epoch 1/5\n",
      "\u001B[1m1875/1875\u001B[0m \u001B[32m━━━━━━━━━━━━━━━━━━━━\u001B[0m\u001B[37m\u001B[0m \u001B[1m5s\u001B[0m 2ms/step - accuracy: 0.8595 - loss: 0.4914\n",
      "Epoch 2/5\n",
      "\u001B[1m1875/1875\u001B[0m \u001B[32m━━━━━━━━━━━━━━━━━━━━\u001B[0m\u001B[37m\u001B[0m \u001B[1m4s\u001B[0m 2ms/step - accuracy: 0.9537 - loss: 0.1589\n",
      "Epoch 3/5\n",
      "\u001B[1m1875/1875\u001B[0m \u001B[32m━━━━━━━━━━━━━━━━━━━━\u001B[0m\u001B[37m\u001B[0m \u001B[1m4s\u001B[0m 2ms/step - accuracy: 0.9650 - loss: 0.1161\n",
      "Epoch 4/5\n",
      "\u001B[1m1875/1875\u001B[0m \u001B[32m━━━━━━━━━━━━━━━━━━━━\u001B[0m\u001B[37m\u001B[0m \u001B[1m4s\u001B[0m 2ms/step - accuracy: 0.9725 - loss: 0.0899\n",
      "Epoch 5/5\n",
      "\u001B[1m1875/1875\u001B[0m \u001B[32m━━━━━━━━━━━━━━━━━━━━\u001B[0m\u001B[37m\u001B[0m \u001B[1m4s\u001B[0m 2ms/step - accuracy: 0.9759 - loss: 0.0767\n",
      "\u001B[1m313/313\u001B[0m \u001B[32m━━━━━━━━━━━━━━━━━━━━\u001B[0m\u001B[37m\u001B[0m \u001B[1m0s\u001B[0m 967us/step\n"
     ]
    },
    {
     "data": {
      "text/plain": [
       "<IPython.core.display.Markdown object>"
      ],
      "text/markdown": "## **Accuracy**\n***"
     },
     "metadata": {},
     "output_type": "display_data"
    },
    {
     "data": {
      "text/plain": [
       "<IPython.core.display.Markdown object>"
      ],
      "text/markdown": "##### **Accuracy: 0.9761**"
     },
     "metadata": {},
     "output_type": "display_data"
    },
    {
     "data": {
      "text/plain": [
       "<IPython.core.display.Markdown object>"
      ],
      "text/markdown": "## **Class-specific results**\n***"
     },
     "metadata": {},
     "output_type": "display_data"
    },
    {
     "data": {
      "text/plain": [
       "                      0            1            2            3           4  \\\n",
       "precision      0.983673     0.994657     0.980354     0.968780    0.981386   \n",
       "recall         0.983673     0.984141     0.967054     0.983168    0.966395   \n",
       "f1-score       0.983673     0.989371     0.973659     0.975921    0.973833   \n",
       "support      980.000000  1135.000000  1032.000000  1010.000000  982.000000   \n",
       "specificity    0.998226     0.999323     0.997770     0.996440    0.998004   \n",
       "\n",
       "                      5           6            7           8            9  \n",
       "precision      0.988532    0.975181     0.962679    0.966258     0.960000  \n",
       "recall         0.966368    0.984342     0.978599    0.970226     0.975223  \n",
       "f1-score       0.977324    0.979740     0.970574    0.968238     0.967552  \n",
       "support      892.000000  958.000000  1028.000000  974.000000  1009.000000  \n",
       "specificity    0.998902    0.997346     0.995653    0.996344     0.995440  "
      ],
      "text/html": [
       "<div>\n",
       "<style scoped>\n",
       "    .dataframe tbody tr th:only-of-type {\n",
       "        vertical-align: middle;\n",
       "    }\n",
       "\n",
       "    .dataframe tbody tr th {\n",
       "        vertical-align: top;\n",
       "    }\n",
       "\n",
       "    .dataframe thead th {\n",
       "        text-align: right;\n",
       "    }\n",
       "</style>\n",
       "<table border=\"1\" class=\"dataframe\">\n",
       "  <thead>\n",
       "    <tr style=\"text-align: right;\">\n",
       "      <th></th>\n",
       "      <th>0</th>\n",
       "      <th>1</th>\n",
       "      <th>2</th>\n",
       "      <th>3</th>\n",
       "      <th>4</th>\n",
       "      <th>5</th>\n",
       "      <th>6</th>\n",
       "      <th>7</th>\n",
       "      <th>8</th>\n",
       "      <th>9</th>\n",
       "    </tr>\n",
       "  </thead>\n",
       "  <tbody>\n",
       "    <tr>\n",
       "      <th>precision</th>\n",
       "      <td>0.983673</td>\n",
       "      <td>0.994657</td>\n",
       "      <td>0.980354</td>\n",
       "      <td>0.968780</td>\n",
       "      <td>0.981386</td>\n",
       "      <td>0.988532</td>\n",
       "      <td>0.975181</td>\n",
       "      <td>0.962679</td>\n",
       "      <td>0.966258</td>\n",
       "      <td>0.960000</td>\n",
       "    </tr>\n",
       "    <tr>\n",
       "      <th>recall</th>\n",
       "      <td>0.983673</td>\n",
       "      <td>0.984141</td>\n",
       "      <td>0.967054</td>\n",
       "      <td>0.983168</td>\n",
       "      <td>0.966395</td>\n",
       "      <td>0.966368</td>\n",
       "      <td>0.984342</td>\n",
       "      <td>0.978599</td>\n",
       "      <td>0.970226</td>\n",
       "      <td>0.975223</td>\n",
       "    </tr>\n",
       "    <tr>\n",
       "      <th>f1-score</th>\n",
       "      <td>0.983673</td>\n",
       "      <td>0.989371</td>\n",
       "      <td>0.973659</td>\n",
       "      <td>0.975921</td>\n",
       "      <td>0.973833</td>\n",
       "      <td>0.977324</td>\n",
       "      <td>0.979740</td>\n",
       "      <td>0.970574</td>\n",
       "      <td>0.968238</td>\n",
       "      <td>0.967552</td>\n",
       "    </tr>\n",
       "    <tr>\n",
       "      <th>support</th>\n",
       "      <td>980.000000</td>\n",
       "      <td>1135.000000</td>\n",
       "      <td>1032.000000</td>\n",
       "      <td>1010.000000</td>\n",
       "      <td>982.000000</td>\n",
       "      <td>892.000000</td>\n",
       "      <td>958.000000</td>\n",
       "      <td>1028.000000</td>\n",
       "      <td>974.000000</td>\n",
       "      <td>1009.000000</td>\n",
       "    </tr>\n",
       "    <tr>\n",
       "      <th>specificity</th>\n",
       "      <td>0.998226</td>\n",
       "      <td>0.999323</td>\n",
       "      <td>0.997770</td>\n",
       "      <td>0.996440</td>\n",
       "      <td>0.998004</td>\n",
       "      <td>0.998902</td>\n",
       "      <td>0.997346</td>\n",
       "      <td>0.995653</td>\n",
       "      <td>0.996344</td>\n",
       "      <td>0.995440</td>\n",
       "    </tr>\n",
       "  </tbody>\n",
       "</table>\n",
       "</div>"
      ]
     },
     "metadata": {},
     "output_type": "display_data"
    },
    {
     "data": {
      "text/plain": [
       "<IPython.core.display.Markdown object>"
      ],
      "text/markdown": "## **Averaging results**\n***"
     },
     "metadata": {},
     "output_type": "display_data"
    },
    {
     "data": {
      "text/plain": [
       "              precision    recall  f1-score  support  specificity\n",
       "macro avg      0.976150  0.975919  0.975989  10000.0     0.997345\n",
       "weighted avg   0.976225  0.976100  0.976117  10000.0     0.997348"
      ],
      "text/html": [
       "<div>\n",
       "<style scoped>\n",
       "    .dataframe tbody tr th:only-of-type {\n",
       "        vertical-align: middle;\n",
       "    }\n",
       "\n",
       "    .dataframe tbody tr th {\n",
       "        vertical-align: top;\n",
       "    }\n",
       "\n",
       "    .dataframe thead th {\n",
       "        text-align: right;\n",
       "    }\n",
       "</style>\n",
       "<table border=\"1\" class=\"dataframe\">\n",
       "  <thead>\n",
       "    <tr style=\"text-align: right;\">\n",
       "      <th></th>\n",
       "      <th>precision</th>\n",
       "      <th>recall</th>\n",
       "      <th>f1-score</th>\n",
       "      <th>support</th>\n",
       "      <th>specificity</th>\n",
       "    </tr>\n",
       "  </thead>\n",
       "  <tbody>\n",
       "    <tr>\n",
       "      <th>macro avg</th>\n",
       "      <td>0.976150</td>\n",
       "      <td>0.975919</td>\n",
       "      <td>0.975989</td>\n",
       "      <td>10000.0</td>\n",
       "      <td>0.997345</td>\n",
       "    </tr>\n",
       "    <tr>\n",
       "      <th>weighted avg</th>\n",
       "      <td>0.976225</td>\n",
       "      <td>0.976100</td>\n",
       "      <td>0.976117</td>\n",
       "      <td>10000.0</td>\n",
       "      <td>0.997348</td>\n",
       "    </tr>\n",
       "  </tbody>\n",
       "</table>\n",
       "</div>"
      ]
     },
     "metadata": {},
     "output_type": "display_data"
    }
   ],
   "execution_count": 468
  },
  {
   "metadata": {},
   "cell_type": "markdown",
   "source": [
    "For each class we calculated the following metrics:\n",
    "* precision\n",
    "* recall(sensitivity)\n",
    "* f1-score\n",
    "* support (number of samples in each class)\n",
    "* specificity\n",
    "\n",
    "It can be seen that the model performed excellently in all measures: it gained 97% accuracy, precision recall and f1-score, and 99% specificity on the test set. This can either imply overfitting or it could be that the mnist dataset is just too good to be true :)"
   ],
   "id": "e3d349e3da92c888"
  },
  {
   "metadata": {},
   "cell_type": "markdown",
   "source": [
    "# **6. confusion matrix**\n",
    "***"
   ],
   "id": "146f8a8960786fc5"
  },
  {
   "metadata": {
    "ExecuteTime": {
     "end_time": "2024-06-22T11:07:09.396484Z",
     "start_time": "2024-06-22T11:07:09.391031Z"
    }
   },
   "cell_type": "code",
   "source": [
    "def create_and_plot_confusion_matrix(y_true,y_pred):\n",
    "    # Generate the confusion matrix\n",
    "    cm = confusion_matrix(y_true, y_pred)\n",
    "    display(Markdown(f\"##### Confusion Matrix: \\n {cm}\"))\n",
    "    \n",
    "    # Define labels for the confusion matrix\n",
    "    labels = [str(i) for i in range(10)]\n",
    "    \n",
    "    # Visualize the confusion matrix using seaborn\n",
    "    plt.figure(figsize=(8, 6))\n",
    "    sns.heatmap(cm, annot=True, fmt='d', cmap='Blues', xticklabels=labels, yticklabels=labels)\n",
    "    plt.xlabel('Predicted')\n",
    "    plt.ylabel('Actual')\n",
    "    plt.title('Confusion Matrix')\n",
    "    plt.show()"
   ],
   "id": "323bb254a4ccb0f0",
   "outputs": [],
   "execution_count": 469
  },
  {
   "metadata": {
    "ExecuteTime": {
     "end_time": "2024-06-22T11:07:09.734746Z",
     "start_time": "2024-06-22T11:07:09.397484Z"
    }
   },
   "cell_type": "code",
   "source": "create_and_plot_confusion_matrix(y_test,y_pred)",
   "id": "9eb414f5c1929eae",
   "outputs": [
    {
     "data": {
      "text/plain": [
       "<IPython.core.display.Markdown object>"
      ],
      "text/markdown": "##### Confusion Matrix: \n [[ 964    0    1    0    1    0    6    3    4    1]\n [   0 1117    4    1    0    1    3    3    6    0]\n [   2    1  998    4    3    0    3   13    7    1]\n [   0    0    2  993    0    3    0    4    2    6]\n [   1    0    2    1  949    0    4    5    2   18]\n [   3    0    0   11    2  862    4    2    4    4]\n [   2    2    0    1    3    3  943    0    4    0]\n [   1    1   10    3    0    0    0 1006    1    6]\n [   5    0    1    6    3    2    3    4  945    5]\n [   2    2    0    5    6    1    1    5    3  984]]"
     },
     "metadata": {},
     "output_type": "display_data"
    },
    {
     "data": {
      "text/plain": [
       "<Figure size 800x600 with 2 Axes>"
      ],
      "image/png": "[encoded data removed]"
     },
     "metadata": {},
     "output_type": "display_data"
    }
   ],
   "execution_count": 470
  },
  {
   "metadata": {},
   "cell_type": "markdown",
   "source": "The problem we are dealing with contains 10 classes. This is a multi-class classification problem. The diagonal of this matrix, represents correct classification (0 classified as 0, 1 classified as 1 and so on...). We can see that the numbers in the diagonal are much greater than the numbers outside it. It indicates that the model did an excellent job classifying the digits correctly (we also have the classification report above with measures like: accuracy, precision, f1-score, etc. to support that statement).",
   "id": "33772fa49bebce5a"
  },
  {
   "metadata": {},
   "cell_type": "markdown",
   "source": [
    "# 7. **Show a figure of the Loss along the training.**\n",
    "***"
   ],
   "id": "666fd9306c66eef0"
  },
  {
   "metadata": {
    "ExecuteTime": {
     "end_time": "2024-06-22T11:07:09.740023Z",
     "start_time": "2024-06-22T11:07:09.735745Z"
    }
   },
   "cell_type": "code",
   "source": [
    "def plot_loss_graph(model,x_train,y_train,x_test,y_test):\n",
    "    # Train the model and record history\n",
    "    history = model.fit(x_train, y_train, epochs=20, validation_data=(x_test, y_test), verbose=0)\n",
    "    \n",
    "    # Plot training loss\n",
    "    plt.plot(history.history['loss'], label='Training Loss')\n",
    "    plt.plot(history.history['val_loss'], label='Validation Loss')\n",
    "    plt.xlabel('Epoch')\n",
    "    plt.ylabel('Loss')\n",
    "    plt.title('Training and Validation Loss')\n",
    "    plt.legend()\n",
    "    plt.show()\n",
    "    \n",
    "    # Find the epoch with the minimum validation loss\n",
    "            # +1 since indexing starts from 0\n",
    "    min_val_loss_epoch = np.argmin(history.history['val_loss']) + 1 \n",
    "    display(Markdown(f\"##### **Optimal number of epochs: {min_val_loss_epoch}**\"))"
   ],
   "id": "1062ed366f24c802",
   "outputs": [],
   "execution_count": 471
  },
  {
   "metadata": {
    "ExecuteTime": {
     "end_time": "2024-06-22T11:07:56.623356Z",
     "start_time": "2024-06-22T11:07:09.741023Z"
    }
   },
   "cell_type": "code",
   "source": "plot_loss_graph(model,x_train,y_train,x_test,y_test)",
   "id": "5e4e4cf68cdf4f8b",
   "outputs": [
    {
     "data": {
      "text/plain": [
       "<Figure size 640x480 with 1 Axes>"
      ],
      "image/png": "[encoded data removed]"
     },
     "metadata": {},
     "output_type": "display_data"
    },
    {
     "data": {
      "text/plain": [
       "<IPython.core.display.Markdown object>"
      ],
      "text/markdown": "##### **Optimal number of epochs: 2**"
     },
     "metadata": {},
     "output_type": "display_data"
    }
   ],
   "execution_count": 472
  },
  {
   "metadata": {},
   "cell_type": "markdown",
   "source": "It looks like the more epochs we make - the training loss is decaying, while the validation loss is increasing. This scenario demonstrates the bias-variance tradeoff. More epochs can lead to better accuracy in training, i.e. less bias, but it also may make the model more prone to over-fitting and lead to worse validation results as the variance increases and the model over-fits its training data and thus performs poorly on a new unseen data.",
   "id": "718135728324c93f"
  },
  {
   "metadata": {
    "ExecuteTime": {
     "end_time": "2024-06-22T11:07:56.631866Z",
     "start_time": "2024-06-22T11:07:56.625353Z"
    }
   },
   "cell_type": "code",
   "source": [
    "def load_mnist_images_and_labels():\n",
    "    # load the dataset\n",
    "    (input_train, labels_train),(input_test,labels_test) = mnist.load_data()\n",
    "     \n",
    "     # combine training and test\n",
    "    images = np.concatenate((input_train, input_test), axis=0)\n",
    "    labels = np.concatenate((labels_train, labels_test), axis=0)\n",
    "    return images, labels\n",
    "\n",
    "def build_and_compile_model():\n",
    "    # Build the neural network model\n",
    "    model = Sequential([\n",
    "        Input(shape=(28, 28)),  # Input layer specifying the shape of input data\n",
    "        Flatten(),  # Flatten the 28x28 images to a 1D array\n",
    "        Dense(128, activation='relu'),  # Fully connected layer with 128 units and ReLU activation\n",
    "        Dropout(0.2),  # Dropout layer to prevent overfitting\n",
    "        Dense(10)  # Output layer with 10 units (one for each digit class)\n",
    "    ])\n",
    "    \n",
    "    # Compile the model with the desired metrics\n",
    "    model.compile(optimizer='adam',\n",
    "                  loss=tf.keras.losses.SparseCategoricalCrossentropy(from_logits=True),\n",
    "                  metrics=['accuracy'])\n",
    "    return model\n",
    "\n",
    "def analyze_model_performance(x_train,y_train,x_test,y_test):\n",
    "    # Build and compile model\n",
    "    model = build_and_compile_model()\n",
    "    # Train the model\n",
    "    model.fit(x_train, y_train, epochs=5)\n",
    "    \n",
    "    # assign the class with the highest prediction score to each image\n",
    "    y_pred = tf.argmax(model.predict(x_test), axis=1)   \n",
    "    \n",
    "    display(Markdown('## **Classification report**\\n***'))\n",
    "    create_classification_report(y_test,y_pred)\n",
    "    \n",
    "    display(Markdown('## **Confusion matrix**\\n***'))\n",
    "    create_and_plot_confusion_matrix(y_test,y_pred)\n",
    "    \n",
    "    display(Markdown('## **Loss graph**\\n***'))\n",
    "    plot_loss_graph(model,x_train,y_train,x_test,y_test)"
   ],
   "id": "d423719c8fc17bcb",
   "outputs": [],
   "execution_count": 473
  },
  {
   "metadata": {},
   "cell_type": "markdown",
   "source": [
    "# **Step 8: Construct a New Dataset with Averaged Pixels**\n",
    "***"
   ],
   "id": "78821c4d5058e0f2"
  },
  {
   "metadata": {
    "ExecuteTime": {
     "end_time": "2024-06-22T11:09:03.706452Z",
     "start_time": "2024-06-22T11:07:56.633863Z"
    }
   },
   "cell_type": "code",
   "source": [
    "def average_surrounding_pixels(images):\n",
    "    # define kernel\n",
    "    avg_kernel = np.ones((3, 3), np.float32) / 9\n",
    "    \n",
    "    # Apply convolution\n",
    "    avg_images = []\n",
    "    \n",
    "    for image in images:\n",
    "        avg_image = cv2.filter2D(image, -1, avg_kernel)\n",
    "        avg_images.append(avg_image)\n",
    "    return avg_images\n",
    "\n",
    "def split_dataset_and_normalize(dataset,labels,train_size=None,test_size=None):\n",
    "    x_train, x_test, y_train, y_test = train_test_split(dataset,labels,train_size=train_size, test_size=test_size, random_state=seed)\n",
    "    x_train, y_train, x_test, y_test = np.float32(x_train), np.int32(y_train), np.float32(x_test), np.int32(y_test)\n",
    "    \n",
    "    x_train, x_test = x_train / 255.0, x_test / 255.0  # Normalize pixel values\n",
    "    return (x_train, y_train), (x_test, y_test)\n",
    "\n",
    "images, labels = load_mnist_images_and_labels()\n",
    "avg_images = average_surrounding_pixels(images)\n",
    "(x_train, y_train), (x_test, y_test) = split_dataset_and_normalize(avg_images,labels,train_size=60000,test_size=10000)\n",
    "analyze_model_performance(x_train,y_train,x_test,y_test)"
   ],
   "id": "6cf985008fe1fd17",
   "outputs": [
    {
     "name": "stdout",
     "output_type": "stream",
     "text": [
      "Epoch 1/5\n",
      "\u001B[1m1875/1875\u001B[0m \u001B[32m━━━━━━━━━━━━━━━━━━━━\u001B[0m\u001B[37m\u001B[0m \u001B[1m3s\u001B[0m 1ms/step - accuracy: 0.8565 - loss: 0.4917\n",
      "Epoch 2/5\n",
      "\u001B[1m1875/1875\u001B[0m \u001B[32m━━━━━━━━━━━━━━━━━━━━\u001B[0m\u001B[37m\u001B[0m \u001B[1m3s\u001B[0m 1ms/step - accuracy: 0.9489 - loss: 0.1702\n",
      "Epoch 3/5\n",
      "\u001B[1m1875/1875\u001B[0m \u001B[32m━━━━━━━━━━━━━━━━━━━━\u001B[0m\u001B[37m\u001B[0m \u001B[1m3s\u001B[0m 2ms/step - accuracy: 0.9591 - loss: 0.1334\n",
      "Epoch 4/5\n",
      "\u001B[1m1875/1875\u001B[0m \u001B[32m━━━━━━━━━━━━━━━━━━━━\u001B[0m\u001B[37m\u001B[0m \u001B[1m4s\u001B[0m 2ms/step - accuracy: 0.9652 - loss: 0.1102\n",
      "Epoch 5/5\n",
      "\u001B[1m1875/1875\u001B[0m \u001B[32m━━━━━━━━━━━━━━━━━━━━\u001B[0m\u001B[37m\u001B[0m \u001B[1m4s\u001B[0m 2ms/step - accuracy: 0.9702 - loss: 0.0971\n",
      "\u001B[1m313/313\u001B[0m \u001B[32m━━━━━━━━━━━━━━━━━━━━\u001B[0m\u001B[37m\u001B[0m \u001B[1m0s\u001B[0m 978us/step\n"
     ]
    },
    {
     "data": {
      "text/plain": [
       "<IPython.core.display.Markdown object>"
      ],
      "text/markdown": "## **Classification report**\n***"
     },
     "metadata": {},
     "output_type": "display_data"
    },
    {
     "data": {
      "text/plain": [
       "<IPython.core.display.Markdown object>"
      ],
      "text/markdown": "## **Accuracy**\n***"
     },
     "metadata": {},
     "output_type": "display_data"
    },
    {
     "data": {
      "text/plain": [
       "<IPython.core.display.Markdown object>"
      ],
      "text/markdown": "##### **Accuracy: 0.9707**"
     },
     "metadata": {},
     "output_type": "display_data"
    },
    {
     "data": {
      "text/plain": [
       "<IPython.core.display.Markdown object>"
      ],
      "text/markdown": "## **Class-specific results**\n***"
     },
     "metadata": {},
     "output_type": "display_data"
    },
    {
     "data": {
      "text/plain": [
       "                      0            1           2            3           4  \\\n",
       "precision      0.983657     0.970238    0.979079     0.958812    0.966304   \n",
       "recall         0.979654     0.990451    0.967942     0.968085    0.981236   \n",
       "f1-score       0.981651     0.980241    0.973479     0.963426    0.973713   \n",
       "support      983.000000  1152.000000  967.000000  1034.000000  906.000000   \n",
       "specificity    0.998226     0.996044    0.997786     0.995204    0.996591   \n",
       "\n",
       "                      5           6            7           8            9  \n",
       "precision      0.974166    0.950199     0.968254    0.979303     0.979063  \n",
       "recall         0.965848    0.992716     0.982938    0.927761     0.947876  \n",
       "f1-score       0.969989    0.970992     0.975541    0.952835     0.963217  \n",
       "support      937.000000  961.000000  1055.000000  969.000000  1036.000000  \n",
       "specificity    0.997352    0.994468     0.996199    0.997896     0.997657  "
      ],
      "text/html": [
       "<div>\n",
       "<style scoped>\n",
       "    .dataframe tbody tr th:only-of-type {\n",
       "        vertical-align: middle;\n",
       "    }\n",
       "\n",
       "    .dataframe tbody tr th {\n",
       "        vertical-align: top;\n",
       "    }\n",
       "\n",
       "    .dataframe thead th {\n",
       "        text-align: right;\n",
       "    }\n",
       "</style>\n",
       "<table border=\"1\" class=\"dataframe\">\n",
       "  <thead>\n",
       "    <tr style=\"text-align: right;\">\n",
       "      <th></th>\n",
       "      <th>0</th>\n",
       "      <th>1</th>\n",
       "      <th>2</th>\n",
       "      <th>3</th>\n",
       "      <th>4</th>\n",
       "      <th>5</th>\n",
       "      <th>6</th>\n",
       "      <th>7</th>\n",
       "      <th>8</th>\n",
       "      <th>9</th>\n",
       "    </tr>\n",
       "  </thead>\n",
       "  <tbody>\n",
       "    <tr>\n",
       "      <th>precision</th>\n",
       "      <td>0.983657</td>\n",
       "      <td>0.970238</td>\n",
       "      <td>0.979079</td>\n",
       "      <td>0.958812</td>\n",
       "      <td>0.966304</td>\n",
       "      <td>0.974166</td>\n",
       "      <td>0.950199</td>\n",
       "      <td>0.968254</td>\n",
       "      <td>0.979303</td>\n",
       "      <td>0.979063</td>\n",
       "    </tr>\n",
       "    <tr>\n",
       "      <th>recall</th>\n",
       "      <td>0.979654</td>\n",
       "      <td>0.990451</td>\n",
       "      <td>0.967942</td>\n",
       "      <td>0.968085</td>\n",
       "      <td>0.981236</td>\n",
       "      <td>0.965848</td>\n",
       "      <td>0.992716</td>\n",
       "      <td>0.982938</td>\n",
       "      <td>0.927761</td>\n",
       "      <td>0.947876</td>\n",
       "    </tr>\n",
       "    <tr>\n",
       "      <th>f1-score</th>\n",
       "      <td>0.981651</td>\n",
       "      <td>0.980241</td>\n",
       "      <td>0.973479</td>\n",
       "      <td>0.963426</td>\n",
       "      <td>0.973713</td>\n",
       "      <td>0.969989</td>\n",
       "      <td>0.970992</td>\n",
       "      <td>0.975541</td>\n",
       "      <td>0.952835</td>\n",
       "      <td>0.963217</td>\n",
       "    </tr>\n",
       "    <tr>\n",
       "      <th>support</th>\n",
       "      <td>983.000000</td>\n",
       "      <td>1152.000000</td>\n",
       "      <td>967.000000</td>\n",
       "      <td>1034.000000</td>\n",
       "      <td>906.000000</td>\n",
       "      <td>937.000000</td>\n",
       "      <td>961.000000</td>\n",
       "      <td>1055.000000</td>\n",
       "      <td>969.000000</td>\n",
       "      <td>1036.000000</td>\n",
       "    </tr>\n",
       "    <tr>\n",
       "      <th>specificity</th>\n",
       "      <td>0.998226</td>\n",
       "      <td>0.996044</td>\n",
       "      <td>0.997786</td>\n",
       "      <td>0.995204</td>\n",
       "      <td>0.996591</td>\n",
       "      <td>0.997352</td>\n",
       "      <td>0.994468</td>\n",
       "      <td>0.996199</td>\n",
       "      <td>0.997896</td>\n",
       "      <td>0.997657</td>\n",
       "    </tr>\n",
       "  </tbody>\n",
       "</table>\n",
       "</div>"
      ]
     },
     "metadata": {},
     "output_type": "display_data"
    },
    {
     "data": {
      "text/plain": [
       "<IPython.core.display.Markdown object>"
      ],
      "text/markdown": "## **Averaging results**\n***"
     },
     "metadata": {},
     "output_type": "display_data"
    },
    {
     "data": {
      "text/plain": [
       "              precision    recall  f1-score  support  specificity\n",
       "macro avg      0.970908  0.970451  0.970509  10000.0     0.996742\n",
       "weighted avg   0.970900  0.970700  0.970631  10000.0     0.996724"
      ],
      "text/html": [
       "<div>\n",
       "<style scoped>\n",
       "    .dataframe tbody tr th:only-of-type {\n",
       "        vertical-align: middle;\n",
       "    }\n",
       "\n",
       "    .dataframe tbody tr th {\n",
       "        vertical-align: top;\n",
       "    }\n",
       "\n",
       "    .dataframe thead th {\n",
       "        text-align: right;\n",
       "    }\n",
       "</style>\n",
       "<table border=\"1\" class=\"dataframe\">\n",
       "  <thead>\n",
       "    <tr style=\"text-align: right;\">\n",
       "      <th></th>\n",
       "      <th>precision</th>\n",
       "      <th>recall</th>\n",
       "      <th>f1-score</th>\n",
       "      <th>support</th>\n",
       "      <th>specificity</th>\n",
       "    </tr>\n",
       "  </thead>\n",
       "  <tbody>\n",
       "    <tr>\n",
       "      <th>macro avg</th>\n",
       "      <td>0.970908</td>\n",
       "      <td>0.970451</td>\n",
       "      <td>0.970509</td>\n",
       "      <td>10000.0</td>\n",
       "      <td>0.996742</td>\n",
       "    </tr>\n",
       "    <tr>\n",
       "      <th>weighted avg</th>\n",
       "      <td>0.970900</td>\n",
       "      <td>0.970700</td>\n",
       "      <td>0.970631</td>\n",
       "      <td>10000.0</td>\n",
       "      <td>0.996724</td>\n",
       "    </tr>\n",
       "  </tbody>\n",
       "</table>\n",
       "</div>"
      ]
     },
     "metadata": {},
     "output_type": "display_data"
    },
    {
     "data": {
      "text/plain": [
       "<IPython.core.display.Markdown object>"
      ],
      "text/markdown": "## **Confusion matrix**\n***"
     },
     "metadata": {},
     "output_type": "display_data"
    },
    {
     "data": {
      "text/plain": [
       "<IPython.core.display.Markdown object>"
      ],
      "text/markdown": "##### Confusion Matrix: \n [[ 963    0    2    0    0    1   13    1    1    2]\n [   0 1141    2    3    1    0    2    2    1    0]\n [   2    6  936    2    2    3    7    4    5    0]\n [   0    3    6 1001    2    5    2   10    2    3]\n [   1    1    0    0  889    1    4    2    1    7]\n [   0    0    0   15    2  905   12    0    3    0]\n [   0    1    0    0    2    2  954    0    2    0]\n [   1    6    4    0    3    0    0 1037    0    4]\n [   7   10    4   16    3    7   10    8  899    5]\n [   5    8    2    7   16    5    0    7    4  982]]"
     },
     "metadata": {},
     "output_type": "display_data"
    },
    {
     "data": {
      "text/plain": [
       "<Figure size 800x600 with 2 Axes>"
      ],
      "image/png": "[encoded data removed]"
     },
     "metadata": {},
     "output_type": "display_data"
    },
    {
     "data": {
      "text/plain": [
       "<IPython.core.display.Markdown object>"
      ],
      "text/markdown": "## **Loss graph**\n***"
     },
     "metadata": {},
     "output_type": "display_data"
    },
    {
     "data": {
      "text/plain": [
       "<Figure size 640x480 with 1 Axes>"
      ],
      "image/png": "[encoded data removed]"
     },
     "metadata": {},
     "output_type": "display_data"
    },
    {
     "data": {
      "text/plain": [
       "<IPython.core.display.Markdown object>"
      ],
      "text/markdown": "##### **Optimal number of epochs: 14**"
     },
     "metadata": {},
     "output_type": "display_data"
    }
   ],
   "execution_count": 474
  },
  {
   "metadata": {
    "jupyter": {
     "is_executing": true
    },
    "ExecuteTime": {
     "start_time": "2024-06-22T11:09:03.707470Z"
    }
   },
   "cell_type": "code",
   "source": [
    "# Build the neural network model\n",
    "AVG_model = Sequential([\n",
    "    Input(shape=(28, 28)),  # Input layer specifying the shape of input data\n",
    "    Flatten(),  # Flatten the 28x28 images to a 1D array\n",
    "    Dense(128, activation='relu'),  # Fully connected layer with 128 units and ReLU activation\n",
    "    Dropout(0.2),  # Dropout layer to prevent overfitting\n",
    "    Dense(10)  # Output layer with 10 units (one for each digit class)\n",
    "])\n",
    "\n",
    "# Compile the model with the desired metrics\n",
    "AVG_model.compile(optimizer='adam',\n",
    "              loss=tf.keras.losses.SparseCategoricalCrossentropy(from_logits=True),\n",
    "              metrics=['accuracy'])\n",
    "\n",
    "# Train the model\n",
    "AVG_history = AVG_model.fit(X_train_avg, y_train, epochs=20, validation_data=(X_test_avg, y_test), verbose=0)\n",
    "results = AVG_model.evaluate(X_test_avg, y_test, verbose=2)\n",
    "\n",
    "#classification\n",
    "y_pred = tf.argmax(AVG_model.predict(X_test_avg), axis=1)\n",
    "\n",
    "# Evaluate the model on test data\n",
    "\n",
    "accuracy = accuracy_score(y_test, y_pred)\n",
    "precision = precision_score(y_test, y_pred, average='weighted')\n",
    "recall = recall_score(y_test, y_pred, average='weighted')\n",
    "f1 = f1_score(y_test, y_pred, average='weighted')\n",
    "\n",
    "# Calculate Precision, Recall, and F1 Score manually\n",
    "\n",
    "print(\"Accuracy score:\", accuracy)\n",
    "print(\"Precision score:\", precision)\n",
    "print(\"Recall (Sensitivity) score:\", recall)\n",
    "print(\"F1 score:\", f1)"
   ],
   "id": "d9861d640ab4aefb",
   "outputs": [],
   "execution_count": null
  },
  {
   "metadata": {
    "jupyter": {
     "is_executing": true
    }
   },
   "cell_type": "code",
   "source": [
    "# Generate the confusion matrix\n",
    "cm = confusion_matrix(y_test, y_pred)\n",
    "print(cm)\n",
    "\n",
    "# Define labels for the confusion matrix\n",
    "labels = [str(i) for i in range(10)]\n",
    "\n",
    "# Visualize the confusion matrix using seaborn\n",
    "plt.figure(figsize=(8, 6))\n",
    "sns.heatmap(cm, annot=True, fmt='d', cmap='Blues', xticklabels=labels, yticklabels=labels)\n",
    "plt.xlabel('Predicted')\n",
    "plt.ylabel('Actual')\n",
    "plt.title('Confusion Matrix')\n",
    "plt.show()\n",
    "\n",
    "# Print classification report for detailed analysis\n",
    "print(classification_report(y_test, y_pred, target_names=labels))\n"
   ],
   "id": "575289ef7bd8e285",
   "outputs": [],
   "execution_count": null
  },
  {
   "metadata": {
    "jupyter": {
     "is_executing": true
    }
   },
   "cell_type": "code",
   "source": [
    "\n",
    "# Plot training loss\n",
    "plt.plot(AVG_history.history['loss'], label='Training Loss')\n",
    "plt.plot(AVG_history.history['val_loss'], label='Validation Loss')\n",
    "plt.xlabel('Epoch')\n",
    "plt.ylabel('Loss')\n",
    "plt.title('Training and Validation Loss')\n",
    "plt.legend()\n",
    "plt.show()\n",
    "\n",
    "# Find the epoch with the minimum validation loss\n",
    "min_val_loss_epoch = np.argmin(AVG_history.history['val_loss']) + 1\n",
    "print(f\"Optimal number of epochs: {min_val_loss_epoch}\")\n"
   ],
   "id": "a24036f1fce51392",
   "outputs": [],
   "execution_count": null
  },
  {
   "metadata": {},
   "cell_type": "markdown",
   "source": [
    "# **10a: Dimension Reduction using Principal Component Analysis (PCA)**\n",
    "***\n"
   ],
   "id": "8e079ec09b5c8ed"
  },
  {
   "metadata": {},
   "cell_type": "markdown",
   "source": [
    "# **10b: Dimension Reduction by 3x3 Pixel Block Averaging**\n",
    "***"
   ],
   "id": "e88493162b1e6bc5"
  },
  {
   "metadata": {
    "jupyter": {
     "is_executing": true
    }
   },
   "cell_type": "code",
   "source": [
    "# Flatten the images\n",
    "X_train_flat = x_train.reshape(x_train.shape[0], -1)\n",
    "X_test_flat = x_test.reshape(x_test.shape[0], -1)\n",
    "\n",
    "# Define the number of components you want to keep\n",
    "n_components = 50  # Example number, adjust based on your dataset\n",
    "pca = PCA(n_components=n_components)\n",
    "\n",
    "# Fit and transform the training data\n",
    "X_train_pca = pca.fit_transform(X_train_flat)\n",
    "X_test_pca = pca.transform(X_test_flat)"
   ],
   "id": "1114323c3f33c409",
   "outputs": [],
   "execution_count": null
  },
  {
   "metadata": {
    "jupyter": {
     "is_executing": true
    }
   },
   "cell_type": "code",
   "source": [
    "# Restore the reduced dimensionality images back to their original shape\n",
    "x_train_pca_img = pca.inverse_transform(X_train_pca).reshape(x_train.shape[0], 28, 28)\n",
    "x_test_pca_img = pca.inverse_transform(X_test_pca).reshape(x_test.shape[0], 28, 28)\n",
    "\n",
    "# Reshape data to fit the model\n",
    "x_train_pca_img = x_train_pca_img.reshape(x_train_pca_img.shape[0], 28, 28, 1)\n",
    "x_test_pca_img = x_test_pca_img.reshape(x_test_pca_img.shape[0], 28, 28, 1)\n"
   ],
   "id": "344c3c278c897bcc",
   "outputs": [],
   "execution_count": null
  },
  {
   "metadata": {
    "jupyter": {
     "is_executing": true
    }
   },
   "cell_type": "code",
   "source": [
    "# Build the neural network model\n",
    "PCA_model = Sequential([\n",
    "    Input(shape=(28, 28)),  # Input layer specifying the shape of input data\n",
    "    Flatten(),  # Flatten the 28x28 images to a 1D array\n",
    "    Dense(128, activation='relu'),  # Fully connected layer with 128 units and ReLU activation\n",
    "    Dropout(0.2),  # Dropout layer to prevent overfitting\n",
    "    Dense(10)  # Output layer with 10 units (one for each digit class)\n",
    "])\n",
    "\n",
    "# Compile the model with the desired metrics\n",
    "PCA_model.compile(optimizer='adam',\n",
    "              loss=tf.keras.losses.SparseCategoricalCrossentropy(from_logits=True),\n",
    "              metrics=['accuracy'])\n",
    "\n",
    "# Train the model\n",
    "PCA_history = PCA_model.fit(x_train_pca_img, y_train, epochs=20, validation_data=(x_test_pca_img, y_test), verbose=0)\n",
    "# Evaluate the model on test data\n",
    "results = PCA_model.evaluate(x_test_pca_img, y_test, verbose=2)\n",
    "\n",
    "# Calculate Precision, Recall, and F1 Score manually\n",
    "y_pred = tf.argmax(PCA_model.predict(x_test_pca_img), axis=1)\n",
    "\n",
    "# Evaluate the model on test data\n",
    "\n",
    "accuracy = accuracy_score(y_test, y_pred)\n",
    "precision = precision_score(y_test, y_pred, average='weighted')\n",
    "recall = recall_score(y_test, y_pred, average='weighted')\n",
    "f1 = f1_score(y_test, y_pred, average='weighted')\n",
    "\n",
    "print(\"Accuracy score:\", accuracy)\n",
    "print(\"Precision score:\", precision)\n",
    "print(\"Recall (Sensitivity) score:\", recall)\n",
    "print(\"F1 score:\", f1)"
   ],
   "id": "9f59777846954b27",
   "outputs": [],
   "execution_count": null
  },
  {
   "metadata": {
    "jupyter": {
     "is_executing": true
    }
   },
   "cell_type": "code",
   "source": [
    "# Generate the confusion matrix\n",
    "cm = confusion_matrix(y_test, y_pred)\n",
    "print(cm)\n",
    "\n",
    "# Define labels for the confusion matrix\n",
    "labels = [str(i) for i in range(10)]\n",
    "\n",
    "# Visualize the confusion matrix using seaborn\n",
    "plt.figure(figsize=(8, 6))\n",
    "sns.heatmap(cm, annot=True, fmt='d', cmap='Blues', xticklabels=labels, yticklabels=labels)\n",
    "plt.xlabel('Predicted')\n",
    "plt.ylabel('Actual')\n",
    "plt.title('Confusion Matrix')\n",
    "plt.show()\n",
    "\n",
    "# Print classification report for detailed analysis\n",
    "print(classification_report(y_test, y_pred, target_names=labels))\n"
   ],
   "id": "90a65c9fa34e322b",
   "outputs": [],
   "execution_count": null
  },
  {
   "metadata": {
    "jupyter": {
     "is_executing": true
    }
   },
   "cell_type": "code",
   "source": [
    "# Plot training loss\n",
    "plt.plot(PCA_history.history['loss'], label='Training Loss')\n",
    "plt.plot(PCA_history.history['val_loss'], label='Validation Loss')\n",
    "plt.xlabel('Epoch')\n",
    "plt.ylabel('Loss')\n",
    "plt.title('Training and Validation Loss')\n",
    "plt.legend()\n",
    "plt.show()\n",
    "\n",
    "# Find the epoch with the minimum validation loss\n",
    "min_val_loss_epoch = np.argmin(PCA_history.history['val_loss']) + 1\n",
    "print(f\"Optimal number of epochs: {min_val_loss_epoch}\")\n"
   ],
   "id": "9bc66fad8904518",
   "outputs": [],
   "execution_count": null
  },
  {
   "metadata": {},
   "cell_type": "markdown",
   "source": [
    "# **Create Imbalanced Dataset by Undersampling**\n",
    "***"
   ],
   "id": "1b15e411f967af8c"
  },
  {
   "metadata": {
    "jupyter": {
     "is_executing": true
    }
   },
   "cell_type": "code",
   "source": [
    "# Function to perform undersampling\n",
    "def undersample(X, y, classes_to_undersample, target_count):\n",
    "    undersampled_X, undersampled_y = [], []\n",
    "    class_counts = Counter(y)\n",
    "\n",
    "    for class_label in np.unique(y):\n",
    "        class_indices = np.where(y == class_label)[0]\n",
    "        if class_label in classes_to_undersample:\n",
    "            sampled_indices = np.random.choice(class_indices, target_count, replace=False)\n",
    "        else:\n",
    "            sampled_indices = class_indices\n",
    "\n",
    "        undersampled_X.append(X[sampled_indices])\n",
    "        undersampled_y.append(y[sampled_indices])\n",
    "\n",
    "    return np.vstack(undersampled_X), np.hstack(undersampled_y)\n",
    "\n",
    "# Select two classes to undersample (e.g., classes 0 and 9)\n",
    "classes_to_undersample = [0,9]\n",
    "target_count = 500  # Number of samples for each undersampled class\n",
    "\n",
    "X_train_undersampled, y_train_undersampled = undersample(x_train, y_train, classes_to_undersample, target_count)\n",
    "\n",
    "\n",
    "\n",
    "print(\"Original class distribution:\", Counter(y_train))\n",
    "print(\"New class distribution after undersampling:\", Counter(y_train_undersampled))"
   ],
   "id": "ebe7fa2810202ccf",
   "outputs": [],
   "execution_count": null
  },
  {
   "metadata": {
    "jupyter": {
     "is_executing": true
    }
   },
   "cell_type": "code",
   "source": [
    "# Build the neural network model\n",
    "OS_model = Sequential([\n",
    "    Input(shape=(28, 28)),  # Input layer specifying the shape of input data\n",
    "    Flatten(),  # Flatten the 28x28 images to a 1D array\n",
    "    Dense(128, activation='relu'),  # Fully connected layer with 128 units and ReLU activation\n",
    "    Dropout(0.2),  # Dropout layer to prevent overfitting\n",
    "    Dense(10)  # Output layer with 10 units (one for each digit class)\n",
    "])\n",
    "\n",
    "# Compile the model with the desired metrics\n",
    "OS_model.compile(optimizer='adam',\n",
    "                 loss=tf.keras.losses.SparseCategoricalCrossentropy(from_logits=True),\n",
    "                 metrics=['accuracy'])\n",
    "\n",
    "# Train the model\n",
    "OS_history = OS_model.fit(X_train_undersampled, y_train_undersampled, epochs=20, validation_data=(x_test, y_test), verbose=0)\n",
    "results = OS_model.evaluate(x_test, y_test, verbose=2)\n",
    "\n",
    "#classification\n",
    "y_pred = tf.argmax(OS_model.predict(x_test), axis=1)\n",
    "\n",
    "# Evaluate the model on test data\n",
    "\n",
    "accuracy = accuracy_score(y_test, y_pred)\n",
    "precision = precision_score(y_test, y_pred, average='weighted')\n",
    "recall = recall_score(y_test, y_pred, average='weighted')\n",
    "f1 = f1_score(y_test, y_pred, average='weighted')\n",
    "\n",
    "# Calculate Precision, Recall, and F1 Score manually\n",
    "\n",
    "print(\"Accuracy score:\", accuracy)\n",
    "print(\"Precision score:\", precision)\n",
    "print(\"Recall (Sensitivity) score:\", recall)\n",
    "print(\"F1 score:\", f1)\n",
    "# Generate the confusion matrix\n",
    "cm = confusion_matrix(y_test, y_pred)\n",
    "print(cm)\n",
    "\n",
    "# Define labels for the confusion matrix\n",
    "labels = [str(i) for i in range(10)]\n",
    "\n",
    "# Visualize the confusion matrix using seaborn\n",
    "plt.figure(figsize=(8, 6))\n",
    "sns.heatmap(cm, annot=True, fmt='d', cmap='Blues', xticklabels=labels, yticklabels=labels)\n",
    "plt.xlabel('Predicted')\n",
    "plt.ylabel('Actual')\n",
    "plt.title('Confusion Matrix')\n",
    "plt.show()\n",
    "\n",
    "# Print classification report for detailed analysis\n",
    "print(classification_report(y_test, y_pred, target_names=labels))\n",
    "\n",
    "# Plot training loss\n",
    "plt.plot(OS_history.history['loss'], label='Training Loss')\n",
    "plt.plot(OS_history.history['val_loss'], label='Validation Loss')\n",
    "plt.xlabel('Epoch')\n",
    "plt.ylabel('Loss')\n",
    "plt.title('Training and Validation Loss')\n",
    "plt.legend()\n",
    "plt.show()\n",
    "\n",
    "# Find the epoch with the minimum validation loss\n",
    "min_val_loss_epoch = np.argmin(OS_history.history['val_loss']) + 1\n",
    "print(f\"Optimal number of epochs: {min_val_loss_epoch}\")\n"
   ],
   "id": "4a3ab9eede06c0c2",
   "outputs": [],
   "execution_count": null
  },
  {
   "metadata": {},
   "cell_type": "markdown",
   "source": [
    "# **Create Imbalanced Dataset by Oversampling with Image Manipulations**\n",
    "***"
   ],
   "id": "67f20ad597fe1add"
  },
  {
   "metadata": {
    "jupyter": {
     "is_executing": true
    }
   },
   "cell_type": "code",
   "source": [
    "# Create an image data generator for augmentation\n",
    "datagen = ImageDataGenerator(\n",
    "    rotation_range=10,\n",
    "    width_shift_range=0.1,\n",
    "    height_shift_range=0.1,\n",
    "    shear_range=0.1,\n",
    "    zoom_range=0.1,\n",
    "    horizontal_flip=True,\n",
    "    fill_mode='nearest'\n",
    ")\n",
    "\n",
    "# Function to perform oversampling with image augmentations\n",
    "def oversample_with_augmentation(X, y, classes_to_oversample, target_count):\n",
    "    oversampled_X, oversampled_y = [], []\n",
    "    class_counts = Counter(y)\n",
    "\n",
    "    for class_label in np.unique(y):\n",
    "        class_indices = np.where(y == class_label)[0]\n",
    "        class_images = X[class_indices]\n",
    "\n",
    "        if class_label in classes_to_oversample:\n",
    "            while len(class_images) < target_count:\n",
    "                augmented_images = next(datagen.flow(class_images, batch_size=target_count - len(class_images)))\n",
    "                class_images = np.vstack((class_images, augmented_images))\n",
    "            class_images = class_images[:target_count]\n",
    "\n",
    "        oversampled_X.append(class_images)\n",
    "        oversampled_y.append([class_label] * len(class_images))\n",
    "\n",
    "    return np.vstack(oversampled_X), np.hstack(oversampled_y)\n",
    "\n",
    "# Select two classes to oversample (e.g., classes 0 and 1)\n",
    "classes_to_oversample = [0,9]\n",
    "target_count = 10000  # Desired number of samples for each oversampled class\n",
    "\n",
    "X_train_oversampled, y_train_oversampled = oversample_with_augmentation(x_train, y_train, classes_to_oversample, target_count)\n",
    "\n",
    "print(\"Original class distribution:\", Counter(y_train))\n",
    "print(\"New class distribution after oversampling:\", Counter(y_train_oversampled))\n"
   ],
   "id": "89b9114820941de1",
   "outputs": [],
   "execution_count": null
  },
  {
   "metadata": {
    "jupyter": {
     "is_executing": true
    }
   },
   "cell_type": "code",
   "source": [
    "# Build the neural network model\n",
    "OS2_model = Sequential([\n",
    "    Input(shape=(28, 28)),  # Input layer specifying the shape of input data\n",
    "    Flatten(),  # Flatten the 28x28 images to a 1D array\n",
    "    Dense(128, activation='relu'),  # Fully connected layer with 128 units and ReLU activation\n",
    "    Dropout(0.2),  # Dropout layer to prevent overfitting\n",
    "    Dense(10)  # Output layer with 10 units (one for each digit class)\n",
    "])\n",
    "\n",
    "# Compile the model with the desired metrics\n",
    "OS2_model.compile(optimizer='adam',\n",
    "              loss=tf.keras.losses.SparseCategoricalCrossentropy(from_logits=True),\n",
    "              metrics=['accuracy'])\n",
    "\n",
    "# Train the model\n",
    "OS2_history = OS2_model.fit(X_train_oversampled, y_train_oversampled, epochs=20, validation_data=(x_test, y_test), verbose=0)\n",
    "results = OS2_model.evaluate(x_test, y_test, verbose=2)\n",
    "\n",
    "#classification\n",
    "y_pred = tf.argmax(OS2_model.predict(x_test), axis=1)\n",
    "\n",
    "# Evaluate the model on test data\n",
    "\n",
    "accuracy = accuracy_score(y_test, y_pred)\n",
    "precision = precision_score(y_test, y_pred, average='weighted')\n",
    "recall = recall_score(y_test, y_pred, average='weighted')\n",
    "f1 = f1_score(y_test, y_pred, average='weighted')\n",
    "\n",
    "# Calculate Precision, Recall, and F1 Score manually\n",
    "\n",
    "print(\"Accuracy score:\", accuracy)\n",
    "print(\"Precision score:\", precision)\n",
    "print(\"Recall (Sensitivity) score:\", recall)\n",
    "print(\"F1 score:\", f1)"
   ],
   "id": "5de6ceef35b83da6",
   "outputs": [],
   "execution_count": null
  },
  {
   "metadata": {
    "jupyter": {
     "is_executing": true
    }
   },
   "cell_type": "code",
   "source": [
    "# Generate the confusion matrix\n",
    "cm = confusion_matrix(y_test, y_pred)\n",
    "print(cm)\n",
    "\n",
    "# Define labels for the confusion matrix\n",
    "labels = [str(i) for i in range(10)]\n",
    "\n",
    "# Visualize the confusion matrix using seaborn\n",
    "plt.figure(figsize=(8, 6))\n",
    "sns.heatmap(cm, annot=True, fmt='d', cmap='Blues', xticklabels=labels, yticklabels=labels)\n",
    "plt.xlabel('Predicted')\n",
    "plt.ylabel('Actual')\n",
    "plt.title('Confusion Matrix')\n",
    "plt.show()\n",
    "\n",
    "# Print classification report for detailed analysis\n",
    "print(classification_report(y_test, y_pred, target_names=labels))\n",
    "\n",
    "# Plot training loss\n",
    "plt.plot(OS2_history.history['loss'], label='Training Loss')\n",
    "plt.plot(OS2_history.history['val_loss'], label='Validation Loss')\n",
    "plt.xlabel('Epoch')\n",
    "plt.ylabel('Loss')\n",
    "plt.title('Training and Validation Loss')\n",
    "plt.legend()\n",
    "plt.show()\n",
    "\n",
    "# Find the epoch with the minimum validation loss\n",
    "min_val_loss_epoch = np.argmin(OS2_history.history['val_loss']) + 1\n",
    "print(f\"Optimal number of epochs: {min_val_loss_epoch}\")"
   ],
   "id": "f5a50616dc408e46",
   "outputs": [],
   "execution_count": null
  },
  {
   "metadata": {
    "jupyter": {
     "is_executing": true
    }
   },
   "cell_type": "code",
   "source": "",
   "id": "3f7154575ddaea0a",
   "outputs": [],
   "execution_count": null
  }
 ],
 "metadata": {
  "kernelspec": {
   "display_name": "Python 3",
   "language": "python",
   "name": "python3"
  },
  "language_info": {
   "codemirror_mode": {
    "name": "ipython",
    "version": 2
   },
   "file_extension": ".py",
   "mimetype": "text/x-python",
   "name": "python",
   "nbconvert_exporter": "python",
   "pygments_lexer": "ipython2",
   "version": "2.7.6"
  }
 },
 "nbformat": 4,
 "nbformat_minor": 5
}
