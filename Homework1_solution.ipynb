{
 "cells": [
  {
   "cell_type": "code",
   "id": "initial_id",
   "metadata": {
    "collapsed": true,
    "ExecuteTime": {
     "end_time": "2024-06-22T00:07:14.218650Z",
     "start_time": "2024-06-22T00:07:14.212556Z"
    }
   },
   "source": [
    "# imports\n",
    "\n",
    "import tensorflow as tf\n",
    "from tensorflow.keras.models import Sequential\n",
    "from tensorflow.keras.layers import Flatten, Dense, Dropout,Input\n",
    "import random\n",
    "import numpy as np\n",
    "import pandas as pd\n",
    "from tensorflow.keras.datasets import mnist\n",
    "import matplotlib.pyplot as plt\n",
    "import seaborn as sns\n",
    "from sklearn.metrics import confusion_matrix, classification_report\n",
    "from sklearn.metrics import accuracy_score\n",
    "from sklearn.metrics import recall_score\n",
    "from sklearn.metrics import precision_score\n",
    "from sklearn.metrics import f1_score\n",
    "from collections import Counter\n",
    "from tensorflow.keras.preprocessing.image import ImageDataGenerator\n",
    "from scipy.ndimage import uniform_filter\n",
    "from sklearn.decomposition import PCA\n",
    "from IPython.display import Markdown, display, JSON\n",
    "from keras import backend as K"
   ],
   "outputs": [],
   "execution_count": 166
  },
  {
   "metadata": {},
   "cell_type": "markdown",
   "source": [
    "# **3. Load the mnist dataset**\n",
    "***"
   ],
   "id": "9cb9c8f561cfe14c"
  },
  {
   "metadata": {
    "ExecuteTime": {
     "end_time": "2024-06-22T00:07:14.786947Z",
     "start_time": "2024-06-22T00:07:14.343390Z"
    }
   },
   "cell_type": "code",
   "source": [
    "# define random seed\n",
    "seed=42\n",
    "random.seed(seed)\n",
    "np.random.seed(seed)\n",
    "tf.random.set_seed(seed)\n",
    "\n",
    "# Load and prepare the MNIST dataset\n",
    "(x_train, y_train), (x_test, y_test) = mnist.load_data()\n",
    "x_train, x_test = x_train / 255.0, x_test / 255.0  # Normalize pixel values"
   ],
   "id": "859415536cb54efa",
   "outputs": [],
   "execution_count": 167
  },
  {
   "metadata": {},
   "cell_type": "markdown",
   "source": [
    "# **4. Present simple statistics of this dataset:**\n",
    "***"
   ],
   "id": "9acd014847567846"
  },
  {
   "metadata": {
    "ExecuteTime": {
     "end_time": "2024-06-22T00:07:15.289239Z",
     "start_time": "2024-06-22T00:07:14.787948Z"
    }
   },
   "cell_type": "code",
   "source": [
    "def show_statistics(dataset):\n",
    "    \"\"\"\n",
    "    Shows some statistics about the dataset\n",
    "    :param dataset: \n",
    "    :return: \n",
    "    \"\"\"\n",
    "    # load the dataset\n",
    "    (input_train, labels_train),(input_test,labels_test) = dataset.load_data()\n",
    "     \n",
    "     # combine training and test\n",
    "    images = np.concatenate((input_train, input_test), axis=0)\n",
    "    labels = np.concatenate((labels_train, labels_test), axis=0)\n",
    "    \n",
    "    \n",
    "    # show the distribution of the images\n",
    "    class_distribution = np.bincount(labels)\n",
    "    indices = np.arange(class_distribution.size)\n",
    "    plt.title(f'Distribution of images in the {dataset.__name__} dataset')\n",
    "    plt.xlabel('class label', fontsize=14)\n",
    "    plt.ylabel('Count', fontsize=14)\n",
    "    plt.xticks(indices,labels=indices)\n",
    "    plt.bar(indices,class_distribution)\n",
    "    plt.show()\n",
    "    \n",
    "    # average number of white pixels(255) and their std per class\n",
    "    average_white_pixels = []\n",
    "    std_white_pixels = []\n",
    "    common_non_white_pixels = []\n",
    "    \n",
    "    for digit in range(10): # 10 digits 0-9:\n",
    "        digit_images = images[labels == digit]\n",
    "        \n",
    "        # columns of pixels, with consideration to RGB matrix\n",
    "        white_pixels_count = np.sum(digit_images == 255, axis=(1, 2)) \n",
    "        average_white_pixels.append(np.mean(white_pixels_count))\n",
    "        std_white_pixels.append(np.std(white_pixels_count))\n",
    "        \n",
    "        #calculate common non-white pixels- if any pixel is not 255, it is not white. \n",
    "        # sum all the areas of that along the images\n",
    "        common_non_white = np.all(digit_images!= 255, axis =0).sum()     \n",
    "        common_non_white_pixels.append(common_non_white)\n",
    "        \n",
    "    # Compile results\n",
    "    statistics = {\n",
    "        \"Class distribution\": class_distribution,\n",
    "        \"Average number of white pixels\": average_white_pixels,\n",
    "        \"Standard deviation of white pixels\": std_white_pixels,\n",
    "        \"number of common non-white pixels\": common_non_white_pixels,\n",
    "    }\n",
    "    \n",
    "    df_statistics = pd.DataFrame(statistics)\n",
    "    summary_row = [np.sum(class_distribution), np.mean(average_white_pixels), np.mean(std_white_pixels), np.mean(common_non_white_pixels)]\n",
    "    \n",
    "    df_statistics.rename_axis('Digit', inplace=True)\n",
    "    df_statistics.loc[\"Total Summary\"] = summary_row\n",
    "    display(df_statistics)\n",
    "    \n",
    "  \n",
    "show_statistics(mnist)"
   ],
   "id": "11349503aad8ef7d",
   "outputs": [
    {
     "data": {
      "text/plain": [
       "<Figure size 640x480 with 1 Axes>"
      ],
      "image/png": "[encoded data removed]"
     },
     "metadata": {},
     "output_type": "display_data"
    },
    {
     "data": {
      "text/plain": [
       "               Class distribution  Average number of white pixels  \\\n",
       "Digit                                                               \n",
       "0                          6903.0                        7.240910   \n",
       "1                          7877.0                        3.613685   \n",
       "2                          6990.0                        5.944492   \n",
       "3                          7141.0                        5.953368   \n",
       "4                          6824.0                        4.847743   \n",
       "5                          6313.0                        5.359575   \n",
       "6                          6876.0                        5.504945   \n",
       "7                          7293.0                        4.539284   \n",
       "8                          6825.0                        5.555458   \n",
       "9                          6958.0                        4.716010   \n",
       "Total Summary             70000.0                        5.327547   \n",
       "\n",
       "               Standard deviation of white pixels  \\\n",
       "Digit                                               \n",
       "0                                       24.266312   \n",
       "1                                       10.816985   \n",
       "2                                       20.322924   \n",
       "3                                       20.555728   \n",
       "4                                       16.463461   \n",
       "5                                       18.257221   \n",
       "6                                       18.786060   \n",
       "7                                       15.439864   \n",
       "8                                       19.388457   \n",
       "9                                       15.829870   \n",
       "Total Summary                           18.012688   \n",
       "\n",
       "               number of common non-white pixels  \n",
       "Digit                                             \n",
       "0                                          345.0  \n",
       "1                                          490.0  \n",
       "2                                          300.0  \n",
       "3                                          326.0  \n",
       "4                                          316.0  \n",
       "5                                          310.0  \n",
       "6                                          356.0  \n",
       "7                                          332.0  \n",
       "8                                          350.0  \n",
       "9                                          359.0  \n",
       "Total Summary                              348.4  "
      ],
      "text/html": [
       "<div>\n",
       "<style scoped>\n",
       "    .dataframe tbody tr th:only-of-type {\n",
       "        vertical-align: middle;\n",
       "    }\n",
       "\n",
       "    .dataframe tbody tr th {\n",
       "        vertical-align: top;\n",
       "    }\n",
       "\n",
       "    .dataframe thead th {\n",
       "        text-align: right;\n",
       "    }\n",
       "</style>\n",
       "<table border=\"1\" class=\"dataframe\">\n",
       "  <thead>\n",
       "    <tr style=\"text-align: right;\">\n",
       "      <th></th>\n",
       "      <th>Class distribution</th>\n",
       "      <th>Average number of white pixels</th>\n",
       "      <th>Standard deviation of white pixels</th>\n",
       "      <th>number of common non-white pixels</th>\n",
       "    </tr>\n",
       "    <tr>\n",
       "      <th>Digit</th>\n",
       "      <th></th>\n",
       "      <th></th>\n",
       "      <th></th>\n",
       "      <th></th>\n",
       "    </tr>\n",
       "  </thead>\n",
       "  <tbody>\n",
       "    <tr>\n",
       "      <th>0</th>\n",
       "      <td>6903.0</td>\n",
       "      <td>7.240910</td>\n",
       "      <td>24.266312</td>\n",
       "      <td>345.0</td>\n",
       "    </tr>\n",
       "    <tr>\n",
       "      <th>1</th>\n",
       "      <td>7877.0</td>\n",
       "      <td>3.613685</td>\n",
       "      <td>10.816985</td>\n",
       "      <td>490.0</td>\n",
       "    </tr>\n",
       "    <tr>\n",
       "      <th>2</th>\n",
       "      <td>6990.0</td>\n",
       "      <td>5.944492</td>\n",
       "      <td>20.322924</td>\n",
       "      <td>300.0</td>\n",
       "    </tr>\n",
       "    <tr>\n",
       "      <th>3</th>\n",
       "      <td>7141.0</td>\n",
       "      <td>5.953368</td>\n",
       "      <td>20.555728</td>\n",
       "      <td>326.0</td>\n",
       "    </tr>\n",
       "    <tr>\n",
       "      <th>4</th>\n",
       "      <td>6824.0</td>\n",
       "      <td>4.847743</td>\n",
       "      <td>16.463461</td>\n",
       "      <td>316.0</td>\n",
       "    </tr>\n",
       "    <tr>\n",
       "      <th>5</th>\n",
       "      <td>6313.0</td>\n",
       "      <td>5.359575</td>\n",
       "      <td>18.257221</td>\n",
       "      <td>310.0</td>\n",
       "    </tr>\n",
       "    <tr>\n",
       "      <th>6</th>\n",
       "      <td>6876.0</td>\n",
       "      <td>5.504945</td>\n",
       "      <td>18.786060</td>\n",
       "      <td>356.0</td>\n",
       "    </tr>\n",
       "    <tr>\n",
       "      <th>7</th>\n",
       "      <td>7293.0</td>\n",
       "      <td>4.539284</td>\n",
       "      <td>15.439864</td>\n",
       "      <td>332.0</td>\n",
       "    </tr>\n",
       "    <tr>\n",
       "      <th>8</th>\n",
       "      <td>6825.0</td>\n",
       "      <td>5.555458</td>\n",
       "      <td>19.388457</td>\n",
       "      <td>350.0</td>\n",
       "    </tr>\n",
       "    <tr>\n",
       "      <th>9</th>\n",
       "      <td>6958.0</td>\n",
       "      <td>4.716010</td>\n",
       "      <td>15.829870</td>\n",
       "      <td>359.0</td>\n",
       "    </tr>\n",
       "    <tr>\n",
       "      <th>Total Summary</th>\n",
       "      <td>70000.0</td>\n",
       "      <td>5.327547</td>\n",
       "      <td>18.012688</td>\n",
       "      <td>348.4</td>\n",
       "    </tr>\n",
       "  </tbody>\n",
       "</table>\n",
       "</div>"
      ]
     },
     "metadata": {},
     "output_type": "display_data"
    }
   ],
   "execution_count": 168
  },
  {
   "metadata": {},
   "cell_type": "markdown",
   "source": [
    "**Note:** The total summary row contains the following:\n",
    "* A summation of the class distribution along all classes (i.e. the total number of images in the dataset)\n",
    "* An average of the average number of white pixels in each class (i.e. the average number of white pixels among all digits)\n",
    "* The average standard deviation of white pixels among all digits\n",
    "* The average number of common non-white pixels among all digits"
   ],
   "id": "79b463e9e8284258"
  },
  {
   "metadata": {},
   "cell_type": "markdown",
   "source": [
    "# **5.Apply a simple neural network**\n",
    "***\n"
   ],
   "id": "167870e203323443"
  },
  {
   "metadata": {
    "ExecuteTime": {
     "end_time": "2024-06-22T00:07:15.294646Z",
     "start_time": "2024-06-22T00:07:15.290238Z"
    }
   },
   "cell_type": "code",
   "source": [
    "def multi_class_specificity(y_true, y_pred,num_classes):\n",
    "    cm = confusion_matrix(y_true, y_pred)\n",
    "    specificity = []\n",
    "    for i in range(num_classes):\n",
    "        tn = np.sum(cm) - (np.sum(cm[i, :]) + np.sum(cm[:, i]) - cm[i, i])\n",
    "        fp = np.sum(cm[:, i]) - cm[i, i]\n",
    "        specificity.append(tn / (tn + fp))\n",
    "    return specificity"
   ],
   "id": "ae874ace5350dff7",
   "outputs": [],
   "execution_count": 169
  },
  {
   "metadata": {
    "ExecuteTime": {
     "end_time": "2024-06-22T00:07:15.302882Z",
     "start_time": "2024-06-22T00:07:15.295645Z"
    }
   },
   "cell_type": "code",
   "source": [
    "def create_classification_report(y_true,y_pred):\n",
    "    # Evaluate the model on test data\n",
    "    results = classification_report(y_true, y_pred, output_dict=True)\n",
    "    not_class_specific_headers = [\"accuracy\",\"macro avg\", \"weighted avg\"]\n",
    "    class_specific_results = {key: value for key, value in results.items() if not key in not_class_specific_headers}\n",
    "    \n",
    "    for i in range(10):\n",
    "        class_specific_results[str(i)].update({\"specificity\": multi_class_specificity(y_true, y_pred,10)[i]})\n",
    "        \n",
    "    general_results = {key: value for key, value in results.items() if  key in not_class_specific_headers}\n",
    "    general_results['macro avg'].update({\"specificity\":np.mean([class_specific_results[str(i)][\"specificity\"] for i in range(10)])})\n",
    "    \n",
    "    # weighted average \n",
    "    weights = np.bincount(y_test) / len(y_true) \n",
    "    general_results['weighted avg'].update({\"specificity\": np.sum([weights[i] * class_specific_results[str(i)][\"specificity\"] for i in range(10)])})\n",
    "    display(Markdown(\"## **Accuracy**\\n***\"))\n",
    "    display(Markdown(f\"##### **Accuracy: {results['accuracy']}**\"))\n",
    "    display(Markdown(\"## **Class-specific results**\\n***\"))\n",
    "    display(pd.DataFrame(class_specific_results))\n",
    "    display(Markdown(\"## **Averaging results**\\n***\"))\n",
    "    display(pd.DataFrame({key: value for key, value in general_results.items() if key != 'accuracy'}).transpose())"
   ],
   "id": "28be6dcee3a890f5",
   "outputs": [],
   "execution_count": 170
  },
  {
   "metadata": {
    "ExecuteTime": {
     "end_time": "2024-06-22T00:08:36.924011Z",
     "start_time": "2024-06-22T00:08:21.536367Z"
    }
   },
   "cell_type": "code",
   "source": [
    "# Build the neural network model\n",
    "model = Sequential([\n",
    "    Input(shape=(28, 28)),  # Input layer specifying the shape of input data\n",
    "    Flatten(),  # Flatten the 28x28 images to a 1D array\n",
    "    Dense(128, activation='relu'),  # Fully connected layer with 128 units and ReLU activation\n",
    "    Dropout(0.2),  # Dropout layer to prevent overfitting\n",
    "    Dense(10)  # Output layer with 10 units (one for each digit class)\n",
    "])\n",
    "\n",
    "# Compile the model with the desired metrics\n",
    "model.compile(optimizer='adam',\n",
    "              loss=tf.keras.losses.SparseCategoricalCrossentropy(from_logits=True),\n",
    "              metrics=['accuracy'])\n",
    "\n",
    "# Train the model\n",
    "model.fit(x_train, y_train, epochs=5)\n",
    "\n",
    "# assign the class with the highest prediction score to each image\n",
    "y_pred = tf.argmax(model.predict(x_test), axis=1)   \n",
    "\n",
    "create_classification_report(y_test,y_pred)"
   ],
   "id": "e6ef5593bb8ad114",
   "outputs": [
    {
     "name": "stdout",
     "output_type": "stream",
     "text": [
      "Epoch 1/5\n",
      "\u001B[1m1875/1875\u001B[0m \u001B[32m━━━━━━━━━━━━━━━━━━━━\u001B[0m\u001B[37m\u001B[0m \u001B[1m4s\u001B[0m 1ms/step - accuracy: 0.8588 - loss: 0.4815\n",
      "Epoch 2/5\n",
      "\u001B[1m1875/1875\u001B[0m \u001B[32m━━━━━━━━━━━━━━━━━━━━\u001B[0m\u001B[37m\u001B[0m \u001B[1m3s\u001B[0m 1ms/step - accuracy: 0.9542 - loss: 0.1529\n",
      "Epoch 3/5\n",
      "\u001B[1m1875/1875\u001B[0m \u001B[32m━━━━━━━━━━━━━━━━━━━━\u001B[0m\u001B[37m\u001B[0m \u001B[1m2s\u001B[0m 1ms/step - accuracy: 0.9678 - loss: 0.1072\n",
      "Epoch 4/5\n",
      "\u001B[1m1875/1875\u001B[0m \u001B[32m━━━━━━━━━━━━━━━━━━━━\u001B[0m\u001B[37m\u001B[0m \u001B[1m3s\u001B[0m 1ms/step - accuracy: 0.9729 - loss: 0.0883\n",
      "Epoch 5/5\n",
      "\u001B[1m1875/1875\u001B[0m \u001B[32m━━━━━━━━━━━━━━━━━━━━\u001B[0m\u001B[37m\u001B[0m \u001B[1m3s\u001B[0m 1ms/step - accuracy: 0.9768 - loss: 0.0741\n",
      "\u001B[1m313/313\u001B[0m \u001B[32m━━━━━━━━━━━━━━━━━━━━\u001B[0m\u001B[37m\u001B[0m \u001B[1m0s\u001B[0m 887us/step\n"
     ]
    },
    {
     "data": {
      "text/plain": [
       "<IPython.core.display.Markdown object>"
      ],
      "text/markdown": "## **Accuracy**\n***"
     },
     "metadata": {},
     "output_type": "display_data"
    },
    {
     "data": {
      "text/plain": [
       "<IPython.core.display.Markdown object>"
      ],
      "text/markdown": "##### **Accuracy: 0.9774**"
     },
     "metadata": {},
     "output_type": "display_data"
    },
    {
     "data": {
      "text/plain": [
       "<IPython.core.display.Markdown object>"
      ],
      "text/markdown": "## **Class-specific results**\n***"
     },
     "metadata": {},
     "output_type": "display_data"
    },
    {
     "data": {
      "text/plain": [
       "                      0            1            2            3           4  \\\n",
       "precision      0.987730     0.992933     0.973863     0.971429    0.983488   \n",
       "recall         0.985714     0.990308     0.974806     0.976238    0.970468   \n",
       "f1-score       0.986721     0.991619     0.974334     0.973827    0.976935   \n",
       "support      980.000000  1135.000000  1032.000000  1010.000000  982.000000   \n",
       "specificity    0.998670     0.999098     0.996989     0.996774    0.998226   \n",
       "\n",
       "                      5           6            7           8            9  \n",
       "precision      0.977452    0.979275     0.968177    0.968303     0.970179  \n",
       "recall         0.971973    0.986430     0.976654    0.972279     0.967294  \n",
       "f1-score       0.974705    0.982839     0.972397    0.970287     0.968734  \n",
       "support      892.000000  958.000000  1028.000000  974.000000  1009.000000  \n",
       "specificity    0.997804    0.997788     0.996322    0.996565     0.996663  "
      ],
      "text/html": [
       "<div>\n",
       "<style scoped>\n",
       "    .dataframe tbody tr th:only-of-type {\n",
       "        vertical-align: middle;\n",
       "    }\n",
       "\n",
       "    .dataframe tbody tr th {\n",
       "        vertical-align: top;\n",
       "    }\n",
       "\n",
       "    .dataframe thead th {\n",
       "        text-align: right;\n",
       "    }\n",
       "</style>\n",
       "<table border=\"1\" class=\"dataframe\">\n",
       "  <thead>\n",
       "    <tr style=\"text-align: right;\">\n",
       "      <th></th>\n",
       "      <th>0</th>\n",
       "      <th>1</th>\n",
       "      <th>2</th>\n",
       "      <th>3</th>\n",
       "      <th>4</th>\n",
       "      <th>5</th>\n",
       "      <th>6</th>\n",
       "      <th>7</th>\n",
       "      <th>8</th>\n",
       "      <th>9</th>\n",
       "    </tr>\n",
       "  </thead>\n",
       "  <tbody>\n",
       "    <tr>\n",
       "      <th>precision</th>\n",
       "      <td>0.987730</td>\n",
       "      <td>0.992933</td>\n",
       "      <td>0.973863</td>\n",
       "      <td>0.971429</td>\n",
       "      <td>0.983488</td>\n",
       "      <td>0.977452</td>\n",
       "      <td>0.979275</td>\n",
       "      <td>0.968177</td>\n",
       "      <td>0.968303</td>\n",
       "      <td>0.970179</td>\n",
       "    </tr>\n",
       "    <tr>\n",
       "      <th>recall</th>\n",
       "      <td>0.985714</td>\n",
       "      <td>0.990308</td>\n",
       "      <td>0.974806</td>\n",
       "      <td>0.976238</td>\n",
       "      <td>0.970468</td>\n",
       "      <td>0.971973</td>\n",
       "      <td>0.986430</td>\n",
       "      <td>0.976654</td>\n",
       "      <td>0.972279</td>\n",
       "      <td>0.967294</td>\n",
       "    </tr>\n",
       "    <tr>\n",
       "      <th>f1-score</th>\n",
       "      <td>0.986721</td>\n",
       "      <td>0.991619</td>\n",
       "      <td>0.974334</td>\n",
       "      <td>0.973827</td>\n",
       "      <td>0.976935</td>\n",
       "      <td>0.974705</td>\n",
       "      <td>0.982839</td>\n",
       "      <td>0.972397</td>\n",
       "      <td>0.970287</td>\n",
       "      <td>0.968734</td>\n",
       "    </tr>\n",
       "    <tr>\n",
       "      <th>support</th>\n",
       "      <td>980.000000</td>\n",
       "      <td>1135.000000</td>\n",
       "      <td>1032.000000</td>\n",
       "      <td>1010.000000</td>\n",
       "      <td>982.000000</td>\n",
       "      <td>892.000000</td>\n",
       "      <td>958.000000</td>\n",
       "      <td>1028.000000</td>\n",
       "      <td>974.000000</td>\n",
       "      <td>1009.000000</td>\n",
       "    </tr>\n",
       "    <tr>\n",
       "      <th>specificity</th>\n",
       "      <td>0.998670</td>\n",
       "      <td>0.999098</td>\n",
       "      <td>0.996989</td>\n",
       "      <td>0.996774</td>\n",
       "      <td>0.998226</td>\n",
       "      <td>0.997804</td>\n",
       "      <td>0.997788</td>\n",
       "      <td>0.996322</td>\n",
       "      <td>0.996565</td>\n",
       "      <td>0.996663</td>\n",
       "    </tr>\n",
       "  </tbody>\n",
       "</table>\n",
       "</div>"
      ]
     },
     "metadata": {},
     "output_type": "display_data"
    },
    {
     "data": {
      "text/plain": [
       "<IPython.core.display.Markdown object>"
      ],
      "text/markdown": "## **Averaging results**\n***"
     },
     "metadata": {},
     "output_type": "display_data"
    },
    {
     "data": {
      "text/plain": [
       "              precision    recall  f1-score  support  specificity\n",
       "macro avg      0.977283  0.977217  0.977240  10000.0     0.997490\n",
       "weighted avg   0.977426  0.977400  0.977404  10000.0     0.997499"
      ],
      "text/html": [
       "<div>\n",
       "<style scoped>\n",
       "    .dataframe tbody tr th:only-of-type {\n",
       "        vertical-align: middle;\n",
       "    }\n",
       "\n",
       "    .dataframe tbody tr th {\n",
       "        vertical-align: top;\n",
       "    }\n",
       "\n",
       "    .dataframe thead th {\n",
       "        text-align: right;\n",
       "    }\n",
       "</style>\n",
       "<table border=\"1\" class=\"dataframe\">\n",
       "  <thead>\n",
       "    <tr style=\"text-align: right;\">\n",
       "      <th></th>\n",
       "      <th>precision</th>\n",
       "      <th>recall</th>\n",
       "      <th>f1-score</th>\n",
       "      <th>support</th>\n",
       "      <th>specificity</th>\n",
       "    </tr>\n",
       "  </thead>\n",
       "  <tbody>\n",
       "    <tr>\n",
       "      <th>macro avg</th>\n",
       "      <td>0.977283</td>\n",
       "      <td>0.977217</td>\n",
       "      <td>0.977240</td>\n",
       "      <td>10000.0</td>\n",
       "      <td>0.997490</td>\n",
       "    </tr>\n",
       "    <tr>\n",
       "      <th>weighted avg</th>\n",
       "      <td>0.977426</td>\n",
       "      <td>0.977400</td>\n",
       "      <td>0.977404</td>\n",
       "      <td>10000.0</td>\n",
       "      <td>0.997499</td>\n",
       "    </tr>\n",
       "  </tbody>\n",
       "</table>\n",
       "</div>"
      ]
     },
     "metadata": {},
     "output_type": "display_data"
    }
   ],
   "execution_count": 175
  },
  {
   "metadata": {},
   "cell_type": "markdown",
   "source": [
    "For each class we calculated the following metrics:\n",
    "* precision\n",
    "* recall(sensitivity)\n",
    "* f1-score\n",
    "* support (number of samples in each class)\n",
    "* specificity\n",
    "\n",
    "It can be seen that the model performed excellently in all measures: it gained 97% accuracy, precision recall and f1-score, and 99% specificity on the test set. This can either imply overfitting or it could be that the mnist dataset is just too good to be true :)"
   ],
   "id": "e3d349e3da92c888"
  },
  {
   "metadata": {},
   "cell_type": "markdown",
   "source": [
    "# **6.confusion matrix**\n",
    "***"
   ],
   "id": "146f8a8960786fc5"
  },
  {
   "metadata": {
    "ExecuteTime": {
     "end_time": "2024-06-22T00:13:58.649318Z",
     "start_time": "2024-06-22T00:13:58.645083Z"
    }
   },
   "cell_type": "code",
   "source": [
    "def create_and_plot_confusion_matrix(y_true,y_pred):\n",
    "    # Generate the confusion matrix\n",
    "    cm = confusion_matrix(y_true, y_pred)\n",
    "    print(cm)\n",
    "    \n",
    "    # Define labels for the confusion matrix\n",
    "    labels = [str(i) for i in range(10)]\n",
    "    \n",
    "    # Visualize the confusion matrix using seaborn\n",
    "    plt.figure(figsize=(8, 6))\n",
    "    sns.heatmap(cm, annot=True, fmt='d', cmap='Blues', xticklabels=labels, yticklabels=labels)\n",
    "    plt.xlabel('Predicted')\n",
    "    plt.ylabel('Actual')\n",
    "    plt.title('Confusion Matrix')\n",
    "    plt.show()"
   ],
   "id": "323bb254a4ccb0f0",
   "outputs": [],
   "execution_count": 178
  },
  {
   "metadata": {
    "ExecuteTime": {
     "end_time": "2024-06-22T00:14:00.755795Z",
     "start_time": "2024-06-22T00:14:00.508089Z"
    }
   },
   "cell_type": "code",
   "source": "create_and_plot_confusion_matrix(y_test,y_pred)",
   "id": "9eb414f5c1929eae",
   "outputs": [
    {
     "name": "stdout",
     "output_type": "stream",
     "text": [
      "[[ 966    0    3    1    0    2    5    2    1    0]\n",
      " [   0 1124    3    1    0    1    2    1    3    0]\n",
      " [   2    0 1006    1    3    0    2    9    9    0]\n",
      " [   0    0    4  986    0    6    0    7    3    4]\n",
      " [   0    0    6    0  953    0    3    2    2   16]\n",
      " [   2    0    0    8    1  867    5    0    5    4]\n",
      " [   3    2    0    1    2    3  945    0    2    0]\n",
      " [   2    2    9    4    0    0    0 1004    2    5]\n",
      " [   2    0    2    6    2    7    2    5  947    1]\n",
      " [   1    4    0    7    8    1    1    7    4  976]]\n"
     ]
    },
    {
     "data": {
      "text/plain": [
       "<Figure size 800x600 with 2 Axes>"
      ],
      "image/png": "[encoded data removed]"
     },
     "metadata": {},
     "output_type": "display_data"
    }
   ],
   "execution_count": 179
  },
  {
   "metadata": {
    "ExecuteTime": {
     "end_time": "2024-06-22T00:15:21.765671Z",
     "start_time": "2024-06-22T00:14:44.495456Z"
    }
   },
   "cell_type": "code",
   "source": [
    "\n",
    "# Train the model and record history\n",
    "history = model.fit(x_train, y_train, epochs=20, validation_data=(x_test, y_test), verbose=0)\n",
    "\n",
    "# Plot training loss\n",
    "plt.plot(history.history['loss'], label='Training Loss')\n",
    "plt.plot(history.history['val_loss'], label='Validation Loss')\n",
    "plt.xlabel('Epoch')\n",
    "plt.ylabel('Loss')\n",
    "plt.title('Training and Validation Loss')\n",
    "plt.legend()\n",
    "plt.show()\n",
    "\n",
    "# Find the epoch with the minimum validation loss\n",
    "min_val_loss_epoch = np.argmin(history.history['val_loss']) + 1\n",
    "print(f\"Optimal number of epochs: {min_val_loss_epoch}\")"
   ],
   "id": "5e4e4cf68cdf4f8b",
   "outputs": [
    {
     "data": {
      "text/plain": [
       "<Figure size 640x480 with 1 Axes>"
      ],
      "image/png": "[encoded data removed]"
     },
     "metadata": {},
     "output_type": "display_data"
    },
    {
     "name": "stdout",
     "output_type": "stream",
     "text": [
      "Optimal number of epochs: 6\n"
     ]
    }
   ],
   "execution_count": 180
  },
  {
   "metadata": {},
   "cell_type": "markdown",
   "source": [
    "# **Step 8: Construct a New Dataset with Averaged Pixels**\n",
    "***"
   ],
   "id": "78821c4d5058e0f2"
  },
  {
   "metadata": {
    "ExecuteTime": {
     "end_time": "2024-06-22T00:08:18.806480Z",
     "start_time": "2024-06-22T00:08:18.585668Z"
    }
   },
   "cell_type": "code",
   "source": [
    "def average_surrounding_pixels(images):\n",
    "    return np.array([uniform_filter(image, size=2) for image in images])\n",
    "\n",
    "X_train_avg = average_surrounding_pixels(x_train)\n",
    "X_test_avg = average_surrounding_pixels(x_test)"
   ],
   "id": "6cf985008fe1fd17",
   "outputs": [
    {
     "ename": "KeyboardInterrupt",
     "evalue": "",
     "output_type": "error",
     "traceback": [
      "\u001B[1;31m---------------------------------------------------------------------------\u001B[0m",
      "\u001B[1;31mKeyboardInterrupt\u001B[0m                         Traceback (most recent call last)",
      "Cell \u001B[1;32mIn[174], line 4\u001B[0m\n\u001B[0;32m      1\u001B[0m \u001B[38;5;28;01mdef\u001B[39;00m \u001B[38;5;21maverage_surrounding_pixels\u001B[39m(images):\n\u001B[0;32m      2\u001B[0m     \u001B[38;5;28;01mreturn\u001B[39;00m np\u001B[38;5;241m.\u001B[39marray([uniform_filter(image, size\u001B[38;5;241m=\u001B[39m\u001B[38;5;241m2\u001B[39m) \u001B[38;5;28;01mfor\u001B[39;00m image \u001B[38;5;129;01min\u001B[39;00m images])\n\u001B[1;32m----> 4\u001B[0m X_train_avg \u001B[38;5;241m=\u001B[39m \u001B[43maverage_surrounding_pixels\u001B[49m\u001B[43m(\u001B[49m\u001B[43mx_train\u001B[49m\u001B[43m)\u001B[49m\n\u001B[0;32m      5\u001B[0m X_test_avg \u001B[38;5;241m=\u001B[39m average_surrounding_pixels(x_test)\n",
      "Cell \u001B[1;32mIn[174], line 2\u001B[0m, in \u001B[0;36maverage_surrounding_pixels\u001B[1;34m(images)\u001B[0m\n\u001B[0;32m      1\u001B[0m \u001B[38;5;28;01mdef\u001B[39;00m \u001B[38;5;21maverage_surrounding_pixels\u001B[39m(images):\n\u001B[1;32m----> 2\u001B[0m     \u001B[38;5;28;01mreturn\u001B[39;00m np\u001B[38;5;241m.\u001B[39marray(\u001B[43m[\u001B[49m\u001B[43muniform_filter\u001B[49m\u001B[43m(\u001B[49m\u001B[43mimage\u001B[49m\u001B[43m,\u001B[49m\u001B[43m \u001B[49m\u001B[43msize\u001B[49m\u001B[38;5;241;43m=\u001B[39;49m\u001B[38;5;241;43m2\u001B[39;49m\u001B[43m)\u001B[49m\u001B[43m \u001B[49m\u001B[38;5;28;43;01mfor\u001B[39;49;00m\u001B[43m \u001B[49m\u001B[43mimage\u001B[49m\u001B[43m \u001B[49m\u001B[38;5;129;43;01min\u001B[39;49;00m\u001B[43m \u001B[49m\u001B[43mimages\u001B[49m\u001B[43m]\u001B[49m)\n",
      "Cell \u001B[1;32mIn[174], line 2\u001B[0m, in \u001B[0;36m<listcomp>\u001B[1;34m(.0)\u001B[0m\n\u001B[0;32m      1\u001B[0m \u001B[38;5;28;01mdef\u001B[39;00m \u001B[38;5;21maverage_surrounding_pixels\u001B[39m(images):\n\u001B[1;32m----> 2\u001B[0m     \u001B[38;5;28;01mreturn\u001B[39;00m np\u001B[38;5;241m.\u001B[39marray([\u001B[43muniform_filter\u001B[49m\u001B[43m(\u001B[49m\u001B[43mimage\u001B[49m\u001B[43m,\u001B[49m\u001B[43m \u001B[49m\u001B[43msize\u001B[49m\u001B[38;5;241;43m=\u001B[39;49m\u001B[38;5;241;43m2\u001B[39;49m\u001B[43m)\u001B[49m \u001B[38;5;28;01mfor\u001B[39;00m image \u001B[38;5;129;01min\u001B[39;00m images])\n",
      "File \u001B[1;32mC:\\Data_Science2_Lab\\Homework1\\Homework1_venv\\Lib\\site-packages\\scipy\\ndimage\\_filters.py:1092\u001B[0m, in \u001B[0;36muniform_filter\u001B[1;34m(input, size, output, mode, cval, origin, axes)\u001B[0m\n\u001B[0;32m   1090\u001B[0m \u001B[38;5;28;01mif\u001B[39;00m \u001B[38;5;28mlen\u001B[39m(axes) \u001B[38;5;241m>\u001B[39m \u001B[38;5;241m0\u001B[39m:\n\u001B[0;32m   1091\u001B[0m     \u001B[38;5;28;01mfor\u001B[39;00m axis, size, origin, mode \u001B[38;5;129;01min\u001B[39;00m axes:\n\u001B[1;32m-> 1092\u001B[0m         \u001B[43muniform_filter1d\u001B[49m\u001B[43m(\u001B[49m\u001B[38;5;28;43minput\u001B[39;49m\u001B[43m,\u001B[49m\u001B[43m \u001B[49m\u001B[38;5;28;43mint\u001B[39;49m\u001B[43m(\u001B[49m\u001B[43msize\u001B[49m\u001B[43m)\u001B[49m\u001B[43m,\u001B[49m\u001B[43m \u001B[49m\u001B[43maxis\u001B[49m\u001B[43m,\u001B[49m\u001B[43m \u001B[49m\u001B[43moutput\u001B[49m\u001B[43m,\u001B[49m\u001B[43m \u001B[49m\u001B[43mmode\u001B[49m\u001B[43m,\u001B[49m\n\u001B[0;32m   1093\u001B[0m \u001B[43m                         \u001B[49m\u001B[43mcval\u001B[49m\u001B[43m,\u001B[49m\u001B[43m \u001B[49m\u001B[43morigin\u001B[49m\u001B[43m)\u001B[49m\n\u001B[0;32m   1094\u001B[0m         \u001B[38;5;28minput\u001B[39m \u001B[38;5;241m=\u001B[39m output\n\u001B[0;32m   1095\u001B[0m \u001B[38;5;28;01melse\u001B[39;00m:\n",
      "File \u001B[1;32mC:\\Data_Science2_Lab\\Homework1\\Homework1_venv\\Lib\\site-packages\\scipy\\ndimage\\_filters.py:1020\u001B[0m, in \u001B[0;36muniform_filter1d\u001B[1;34m(input, size, axis, output, mode, cval, origin)\u001B[0m\n\u001B[0;32m   1018\u001B[0m mode \u001B[38;5;241m=\u001B[39m _ni_support\u001B[38;5;241m.\u001B[39m_extend_mode_to_code(mode)\n\u001B[0;32m   1019\u001B[0m \u001B[38;5;28;01mif\u001B[39;00m \u001B[38;5;129;01mnot\u001B[39;00m complex_output:\n\u001B[1;32m-> 1020\u001B[0m     \u001B[43m_nd_image\u001B[49m\u001B[38;5;241;43m.\u001B[39;49m\u001B[43muniform_filter1d\u001B[49m\u001B[43m(\u001B[49m\u001B[38;5;28;43minput\u001B[39;49m\u001B[43m,\u001B[49m\u001B[43m \u001B[49m\u001B[43msize\u001B[49m\u001B[43m,\u001B[49m\u001B[43m \u001B[49m\u001B[43maxis\u001B[49m\u001B[43m,\u001B[49m\u001B[43m \u001B[49m\u001B[43moutput\u001B[49m\u001B[43m,\u001B[49m\u001B[43m \u001B[49m\u001B[43mmode\u001B[49m\u001B[43m,\u001B[49m\u001B[43m \u001B[49m\u001B[43mcval\u001B[49m\u001B[43m,\u001B[49m\n\u001B[0;32m   1021\u001B[0m \u001B[43m                               \u001B[49m\u001B[43morigin\u001B[49m\u001B[43m)\u001B[49m\n\u001B[0;32m   1022\u001B[0m \u001B[38;5;28;01melse\u001B[39;00m:\n\u001B[0;32m   1023\u001B[0m     _nd_image\u001B[38;5;241m.\u001B[39muniform_filter1d(\u001B[38;5;28minput\u001B[39m\u001B[38;5;241m.\u001B[39mreal, size, axis, output\u001B[38;5;241m.\u001B[39mreal, mode,\n\u001B[0;32m   1024\u001B[0m                                numpy\u001B[38;5;241m.\u001B[39mreal(cval), origin)\n",
      "\u001B[1;31mKeyboardInterrupt\u001B[0m: "
     ]
    }
   ],
   "execution_count": 174
  },
  {
   "metadata": {},
   "cell_type": "code",
   "source": [
    "# Build the neural network model\n",
    "AVG_model = Sequential([\n",
    "    Input(shape=(28, 28)),  # Input layer specifying the shape of input data\n",
    "    Flatten(),  # Flatten the 28x28 images to a 1D array\n",
    "    Dense(128, activation='relu'),  # Fully connected layer with 128 units and ReLU activation\n",
    "    Dropout(0.2),  # Dropout layer to prevent overfitting\n",
    "    Dense(10)  # Output layer with 10 units (one for each digit class)\n",
    "])\n",
    "\n",
    "# Compile the model with the desired metrics\n",
    "AVG_model.compile(optimizer='adam',\n",
    "              loss=tf.keras.losses.SparseCategoricalCrossentropy(from_logits=True),\n",
    "              metrics=['accuracy'])\n",
    "\n",
    "# Train the model\n",
    "AVG_history = AVG_model.fit(X_train_avg, y_train, epochs=20, validation_data=(X_test_avg, y_test), verbose=0)\n",
    "results = AVG_model.evaluate(X_test_avg, y_test, verbose=2)\n",
    "\n",
    "#classification\n",
    "y_pred = tf.argmax(AVG_model.predict(X_test_avg), axis=1)\n",
    "\n",
    "# Evaluate the model on test data\n",
    "\n",
    "accuracy = accuracy_score(y_test, y_pred)\n",
    "precision = precision_score(y_test, y_pred, average='weighted')\n",
    "recall = recall_score(y_test, y_pred, average='weighted')\n",
    "f1 = f1_score(y_test, y_pred, average='weighted')\n",
    "\n",
    "# Calculate Precision, Recall, and F1 Score manually\n",
    "\n",
    "print(\"Accuracy score:\", accuracy)\n",
    "print(\"Precision score:\", precision)\n",
    "print(\"Recall (Sensitivity) score:\", recall)\n",
    "print(\"F1 score:\", f1)"
   ],
   "id": "d9861d640ab4aefb",
   "outputs": [],
   "execution_count": null
  },
  {
   "metadata": {},
   "cell_type": "code",
   "source": [
    "# Generate the confusion matrix\n",
    "cm = confusion_matrix(y_test, y_pred)\n",
    "print(cm)\n",
    "\n",
    "# Define labels for the confusion matrix\n",
    "labels = [str(i) for i in range(10)]\n",
    "\n",
    "# Visualize the confusion matrix using seaborn\n",
    "plt.figure(figsize=(8, 6))\n",
    "sns.heatmap(cm, annot=True, fmt='d', cmap='Blues', xticklabels=labels, yticklabels=labels)\n",
    "plt.xlabel('Predicted')\n",
    "plt.ylabel('Actual')\n",
    "plt.title('Confusion Matrix')\n",
    "plt.show()\n",
    "\n",
    "# Print classification report for detailed analysis\n",
    "print(classification_report(y_test, y_pred, target_names=labels))\n"
   ],
   "id": "575289ef7bd8e285",
   "outputs": [],
   "execution_count": null
  },
  {
   "metadata": {},
   "cell_type": "code",
   "source": [
    "\n",
    "# Plot training loss\n",
    "plt.plot(AVG_history.history['loss'], label='Training Loss')\n",
    "plt.plot(AVG_history.history['val_loss'], label='Validation Loss')\n",
    "plt.xlabel('Epoch')\n",
    "plt.ylabel('Loss')\n",
    "plt.title('Training and Validation Loss')\n",
    "plt.legend()\n",
    "plt.show()\n",
    "\n",
    "# Find the epoch with the minimum validation loss\n",
    "min_val_loss_epoch = np.argmin(AVG_history.history['val_loss']) + 1\n",
    "print(f\"Optimal number of epochs: {min_val_loss_epoch}\")\n"
   ],
   "id": "a24036f1fce51392",
   "outputs": [],
   "execution_count": null
  },
  {
   "metadata": {},
   "cell_type": "markdown",
   "source": [
    "# **10a: Dimension Reduction using Principal Component Analysis (PCA)**\n",
    "***\n"
   ],
   "id": "8e079ec09b5c8ed"
  },
  {
   "metadata": {},
   "cell_type": "markdown",
   "source": [
    "# **10b: Dimension Reduction by 3x3 Pixel Block Averaging**\n",
    "***"
   ],
   "id": "e88493162b1e6bc5"
  },
  {
   "metadata": {},
   "cell_type": "code",
   "source": [
    "# Flatten the images\n",
    "X_train_flat = x_train.reshape(x_train.shape[0], -1)\n",
    "X_test_flat = x_test.reshape(x_test.shape[0], -1)\n",
    "\n",
    "# Define the number of components you want to keep\n",
    "n_components = 50  # Example number, adjust based on your dataset\n",
    "pca = PCA(n_components=n_components)\n",
    "\n",
    "# Fit and transform the training data\n",
    "X_train_pca = pca.fit_transform(X_train_flat)\n",
    "X_test_pca = pca.transform(X_test_flat)"
   ],
   "id": "1114323c3f33c409",
   "outputs": [],
   "execution_count": null
  },
  {
   "metadata": {},
   "cell_type": "code",
   "source": [
    "# Restore the reduced dimensionality images back to their original shape\n",
    "x_train_pca_img = pca.inverse_transform(X_train_pca).reshape(x_train.shape[0], 28, 28)\n",
    "x_test_pca_img = pca.inverse_transform(X_test_pca).reshape(x_test.shape[0], 28, 28)\n",
    "\n",
    "# Reshape data to fit the model\n",
    "x_train_pca_img = x_train_pca_img.reshape(x_train_pca_img.shape[0], 28, 28, 1)\n",
    "x_test_pca_img = x_test_pca_img.reshape(x_test_pca_img.shape[0], 28, 28, 1)\n"
   ],
   "id": "344c3c278c897bcc",
   "outputs": [],
   "execution_count": null
  },
  {
   "metadata": {},
   "cell_type": "code",
   "source": [
    "# Build the neural network model\n",
    "PCA_model = Sequential([\n",
    "    Input(shape=(28, 28)),  # Input layer specifying the shape of input data\n",
    "    Flatten(),  # Flatten the 28x28 images to a 1D array\n",
    "    Dense(128, activation='relu'),  # Fully connected layer with 128 units and ReLU activation\n",
    "    Dropout(0.2),  # Dropout layer to prevent overfitting\n",
    "    Dense(10)  # Output layer with 10 units (one for each digit class)\n",
    "])\n",
    "\n",
    "# Compile the model with the desired metrics\n",
    "PCA_model.compile(optimizer='adam',\n",
    "              loss=tf.keras.losses.SparseCategoricalCrossentropy(from_logits=True),\n",
    "              metrics=['accuracy'])\n",
    "\n",
    "# Train the model\n",
    "PCA_history = PCA_model.fit(x_train_pca_img, y_train, epochs=20, validation_data=(x_test_pca_img, y_test), verbose=0)\n",
    "# Evaluate the model on test data\n",
    "results = PCA_model.evaluate(x_test_pca_img, y_test, verbose=2)\n",
    "\n",
    "# Calculate Precision, Recall, and F1 Score manually\n",
    "y_pred = tf.argmax(PCA_model.predict(x_test_pca_img), axis=1)\n",
    "\n",
    "# Evaluate the model on test data\n",
    "\n",
    "accuracy = accuracy_score(y_test, y_pred)\n",
    "precision = precision_score(y_test, y_pred, average='weighted')\n",
    "recall = recall_score(y_test, y_pred, average='weighted')\n",
    "f1 = f1_score(y_test, y_pred, average='weighted')\n",
    "\n",
    "print(\"Accuracy score:\", accuracy)\n",
    "print(\"Precision score:\", precision)\n",
    "print(\"Recall (Sensitivity) score:\", recall)\n",
    "print(\"F1 score:\", f1)"
   ],
   "id": "9f59777846954b27",
   "outputs": [],
   "execution_count": null
  },
  {
   "metadata": {},
   "cell_type": "code",
   "source": [
    "# Generate the confusion matrix\n",
    "cm = confusion_matrix(y_test, y_pred)\n",
    "print(cm)\n",
    "\n",
    "# Define labels for the confusion matrix\n",
    "labels = [str(i) for i in range(10)]\n",
    "\n",
    "# Visualize the confusion matrix using seaborn\n",
    "plt.figure(figsize=(8, 6))\n",
    "sns.heatmap(cm, annot=True, fmt='d', cmap='Blues', xticklabels=labels, yticklabels=labels)\n",
    "plt.xlabel('Predicted')\n",
    "plt.ylabel('Actual')\n",
    "plt.title('Confusion Matrix')\n",
    "plt.show()\n",
    "\n",
    "# Print classification report for detailed analysis\n",
    "print(classification_report(y_test, y_pred, target_names=labels))\n"
   ],
   "id": "90a65c9fa34e322b",
   "outputs": [],
   "execution_count": null
  },
  {
   "metadata": {},
   "cell_type": "code",
   "source": [
    "# Plot training loss\n",
    "plt.plot(PCA_history.history['loss'], label='Training Loss')\n",
    "plt.plot(PCA_history.history['val_loss'], label='Validation Loss')\n",
    "plt.xlabel('Epoch')\n",
    "plt.ylabel('Loss')\n",
    "plt.title('Training and Validation Loss')\n",
    "plt.legend()\n",
    "plt.show()\n",
    "\n",
    "# Find the epoch with the minimum validation loss\n",
    "min_val_loss_epoch = np.argmin(PCA_history.history['val_loss']) + 1\n",
    "print(f\"Optimal number of epochs: {min_val_loss_epoch}\")\n"
   ],
   "id": "9bc66fad8904518",
   "outputs": [],
   "execution_count": null
  },
  {
   "metadata": {},
   "cell_type": "markdown",
   "source": [
    "# **Create Imbalanced Dataset by Undersampling**\n",
    "***"
   ],
   "id": "1b15e411f967af8c"
  },
  {
   "metadata": {},
   "cell_type": "code",
   "source": [
    "# Function to perform undersampling\n",
    "def undersample(X, y, classes_to_undersample, target_count):\n",
    "    undersampled_X, undersampled_y = [], []\n",
    "    class_counts = Counter(y)\n",
    "\n",
    "    for class_label in np.unique(y):\n",
    "        class_indices = np.where(y == class_label)[0]\n",
    "        if class_label in classes_to_undersample:\n",
    "            sampled_indices = np.random.choice(class_indices, target_count, replace=False)\n",
    "        else:\n",
    "            sampled_indices = class_indices\n",
    "\n",
    "        undersampled_X.append(X[sampled_indices])\n",
    "        undersampled_y.append(y[sampled_indices])\n",
    "\n",
    "    return np.vstack(undersampled_X), np.hstack(undersampled_y)\n",
    "\n",
    "# Select two classes to undersample (e.g., classes 0 and 9)\n",
    "classes_to_undersample = [0,9]\n",
    "target_count = 500  # Number of samples for each undersampled class\n",
    "\n",
    "X_train_undersampled, y_train_undersampled = undersample(x_train, y_train, classes_to_undersample, target_count)\n",
    "\n",
    "\n",
    "\n",
    "print(\"Original class distribution:\", Counter(y_train))\n",
    "print(\"New class distribution after undersampling:\", Counter(y_train_undersampled))"
   ],
   "id": "ebe7fa2810202ccf",
   "outputs": [],
   "execution_count": null
  },
  {
   "metadata": {},
   "cell_type": "code",
   "source": [
    "# Build the neural network model\n",
    "OS_model = Sequential([\n",
    "    Input(shape=(28, 28)),  # Input layer specifying the shape of input data\n",
    "    Flatten(),  # Flatten the 28x28 images to a 1D array\n",
    "    Dense(128, activation='relu'),  # Fully connected layer with 128 units and ReLU activation\n",
    "    Dropout(0.2),  # Dropout layer to prevent overfitting\n",
    "    Dense(10)  # Output layer with 10 units (one for each digit class)\n",
    "])\n",
    "\n",
    "# Compile the model with the desired metrics\n",
    "OS_model.compile(optimizer='adam',\n",
    "                 loss=tf.keras.losses.SparseCategoricalCrossentropy(from_logits=True),\n",
    "                 metrics=['accuracy'])\n",
    "\n",
    "# Train the model\n",
    "OS_history = OS_model.fit(X_train_undersampled, y_train_undersampled, epochs=20, validation_data=(x_test, y_test), verbose=0)\n",
    "results = OS_model.evaluate(x_test, y_test, verbose=2)\n",
    "\n",
    "#classification\n",
    "y_pred = tf.argmax(OS_model.predict(x_test), axis=1)\n",
    "\n",
    "# Evaluate the model on test data\n",
    "\n",
    "accuracy = accuracy_score(y_test, y_pred)\n",
    "precision = precision_score(y_test, y_pred, average='weighted')\n",
    "recall = recall_score(y_test, y_pred, average='weighted')\n",
    "f1 = f1_score(y_test, y_pred, average='weighted')\n",
    "\n",
    "# Calculate Precision, Recall, and F1 Score manually\n",
    "\n",
    "print(\"Accuracy score:\", accuracy)\n",
    "print(\"Precision score:\", precision)\n",
    "print(\"Recall (Sensitivity) score:\", recall)\n",
    "print(\"F1 score:\", f1)\n",
    "# Generate the confusion matrix\n",
    "cm = confusion_matrix(y_test, y_pred)\n",
    "print(cm)\n",
    "\n",
    "# Define labels for the confusion matrix\n",
    "labels = [str(i) for i in range(10)]\n",
    "\n",
    "# Visualize the confusion matrix using seaborn\n",
    "plt.figure(figsize=(8, 6))\n",
    "sns.heatmap(cm, annot=True, fmt='d', cmap='Blues', xticklabels=labels, yticklabels=labels)\n",
    "plt.xlabel('Predicted')\n",
    "plt.ylabel('Actual')\n",
    "plt.title('Confusion Matrix')\n",
    "plt.show()\n",
    "\n",
    "# Print classification report for detailed analysis\n",
    "print(classification_report(y_test, y_pred, target_names=labels))\n",
    "\n",
    "# Plot training loss\n",
    "plt.plot(OS_history.history['loss'], label='Training Loss')\n",
    "plt.plot(OS_history.history['val_loss'], label='Validation Loss')\n",
    "plt.xlabel('Epoch')\n",
    "plt.ylabel('Loss')\n",
    "plt.title('Training and Validation Loss')\n",
    "plt.legend()\n",
    "plt.show()\n",
    "\n",
    "# Find the epoch with the minimum validation loss\n",
    "min_val_loss_epoch = np.argmin(OS_history.history['val_loss']) + 1\n",
    "print(f\"Optimal number of epochs: {min_val_loss_epoch}\")\n"
   ],
   "id": "4a3ab9eede06c0c2",
   "outputs": [],
   "execution_count": null
  },
  {
   "metadata": {},
   "cell_type": "markdown",
   "source": [
    "# **Create Imbalanced Dataset by Oversampling with Image Manipulations**\n",
    "***"
   ],
   "id": "67f20ad597fe1add"
  },
  {
   "metadata": {},
   "cell_type": "code",
   "source": [
    "# Create an image data generator for augmentation\n",
    "datagen = ImageDataGenerator(\n",
    "    rotation_range=10,\n",
    "    width_shift_range=0.1,\n",
    "    height_shift_range=0.1,\n",
    "    shear_range=0.1,\n",
    "    zoom_range=0.1,\n",
    "    horizontal_flip=True,\n",
    "    fill_mode='nearest'\n",
    ")\n",
    "\n",
    "# Function to perform oversampling with image augmentations\n",
    "def oversample_with_augmentation(X, y, classes_to_oversample, target_count):\n",
    "    oversampled_X, oversampled_y = [], []\n",
    "    class_counts = Counter(y)\n",
    "\n",
    "    for class_label in np.unique(y):\n",
    "        class_indices = np.where(y == class_label)[0]\n",
    "        class_images = X[class_indices]\n",
    "\n",
    "        if class_label in classes_to_oversample:\n",
    "            while len(class_images) < target_count:\n",
    "                augmented_images = next(datagen.flow(class_images, batch_size=target_count - len(class_images)))\n",
    "                class_images = np.vstack((class_images, augmented_images))\n",
    "            class_images = class_images[:target_count]\n",
    "\n",
    "        oversampled_X.append(class_images)\n",
    "        oversampled_y.append([class_label] * len(class_images))\n",
    "\n",
    "    return np.vstack(oversampled_X), np.hstack(oversampled_y)\n",
    "\n",
    "# Select two classes to oversample (e.g., classes 0 and 1)\n",
    "classes_to_oversample = [0,9]\n",
    "target_count = 10000  # Desired number of samples for each oversampled class\n",
    "\n",
    "X_train_oversampled, y_train_oversampled = oversample_with_augmentation(x_train, y_train, classes_to_oversample, target_count)\n",
    "\n",
    "print(\"Original class distribution:\", Counter(y_train))\n",
    "print(\"New class distribution after oversampling:\", Counter(y_train_oversampled))\n"
   ],
   "id": "89b9114820941de1",
   "outputs": [],
   "execution_count": null
  },
  {
   "metadata": {},
   "cell_type": "code",
   "source": [
    "# Build the neural network model\n",
    "OS2_model = Sequential([\n",
    "    Input(shape=(28, 28)),  # Input layer specifying the shape of input data\n",
    "    Flatten(),  # Flatten the 28x28 images to a 1D array\n",
    "    Dense(128, activation='relu'),  # Fully connected layer with 128 units and ReLU activation\n",
    "    Dropout(0.2),  # Dropout layer to prevent overfitting\n",
    "    Dense(10)  # Output layer with 10 units (one for each digit class)\n",
    "])\n",
    "\n",
    "# Compile the model with the desired metrics\n",
    "OS2_model.compile(optimizer='adam',\n",
    "              loss=tf.keras.losses.SparseCategoricalCrossentropy(from_logits=True),\n",
    "              metrics=['accuracy'])\n",
    "\n",
    "# Train the model\n",
    "OS2_history = OS2_model.fit(X_train_oversampled, y_train_oversampled, epochs=20, validation_data=(x_test, y_test), verbose=0)\n",
    "results = OS2_model.evaluate(x_test, y_test, verbose=2)\n",
    "\n",
    "#classification\n",
    "y_pred = tf.argmax(OS2_model.predict(x_test), axis=1)\n",
    "\n",
    "# Evaluate the model on test data\n",
    "\n",
    "accuracy = accuracy_score(y_test, y_pred)\n",
    "precision = precision_score(y_test, y_pred, average='weighted')\n",
    "recall = recall_score(y_test, y_pred, average='weighted')\n",
    "f1 = f1_score(y_test, y_pred, average='weighted')\n",
    "\n",
    "# Calculate Precision, Recall, and F1 Score manually\n",
    "\n",
    "print(\"Accuracy score:\", accuracy)\n",
    "print(\"Precision score:\", precision)\n",
    "print(\"Recall (Sensitivity) score:\", recall)\n",
    "print(\"F1 score:\", f1)"
   ],
   "id": "5de6ceef35b83da6",
   "outputs": [],
   "execution_count": null
  },
  {
   "metadata": {},
   "cell_type": "code",
   "source": [
    "# Generate the confusion matrix\n",
    "cm = confusion_matrix(y_test, y_pred)\n",
    "print(cm)\n",
    "\n",
    "# Define labels for the confusion matrix\n",
    "labels = [str(i) for i in range(10)]\n",
    "\n",
    "# Visualize the confusion matrix using seaborn\n",
    "plt.figure(figsize=(8, 6))\n",
    "sns.heatmap(cm, annot=True, fmt='d', cmap='Blues', xticklabels=labels, yticklabels=labels)\n",
    "plt.xlabel('Predicted')\n",
    "plt.ylabel('Actual')\n",
    "plt.title('Confusion Matrix')\n",
    "plt.show()\n",
    "\n",
    "# Print classification report for detailed analysis\n",
    "print(classification_report(y_test, y_pred, target_names=labels))\n",
    "\n",
    "# Plot training loss\n",
    "plt.plot(OS2_history.history['loss'], label='Training Loss')\n",
    "plt.plot(OS2_history.history['val_loss'], label='Validation Loss')\n",
    "plt.xlabel('Epoch')\n",
    "plt.ylabel('Loss')\n",
    "plt.title('Training and Validation Loss')\n",
    "plt.legend()\n",
    "plt.show()\n",
    "\n",
    "# Find the epoch with the minimum validation loss\n",
    "min_val_loss_epoch = np.argmin(OS2_history.history['val_loss']) + 1\n",
    "print(f\"Optimal number of epochs: {min_val_loss_epoch}\")"
   ],
   "id": "f5a50616dc408e46",
   "outputs": [],
   "execution_count": null
  },
  {
   "metadata": {},
   "cell_type": "code",
   "source": "",
   "id": "3f7154575ddaea0a",
   "outputs": [],
   "execution_count": null
  }
 ],
 "metadata": {
  "kernelspec": {
   "display_name": "Python 3",
   "language": "python",
   "name": "python3"
  },
  "language_info": {
   "codemirror_mode": {
    "name": "ipython",
    "version": 2
   },
   "file_extension": ".py",
   "mimetype": "text/x-python",
   "name": "python",
   "nbconvert_exporter": "python",
   "pygments_lexer": "ipython2",
   "version": "2.7.6"
  }
 },
 "nbformat": 4,
 "nbformat_minor": 5
}
